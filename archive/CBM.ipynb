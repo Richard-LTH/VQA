{
 "cells": [
  {
   "cell_type": "markdown",
   "metadata": {},
   "source": [
    "# Description"
   ]
  },
  {
   "cell_type": "markdown",
   "metadata": {},
   "source": [
    "CLIP(Contrastive Language Image Pre-training) Based Model.\n",
    "We used CLIP to extract features from both images and questions, then combined these features with positional information to train our model. We developed a VQA model based on CLIP, integrating position encoding, cross-attention, and a dynamic gating mechanism. This model achieved a satisfactory accuracy on our benchmark dataset.\n"
   ]
  },
  {
   "cell_type": "markdown",
   "metadata": {},
   "source": [
    "# Dataset"
   ]
  },
  {
   "cell_type": "markdown",
   "metadata": {},
   "source": [
    "For this project, we use two dataset, Vizwiz and VQA datasets. We selected the VQA and VizWiz datasets for their complementary strengths. The VQA dataset provides a broad range of everyday scenes and diverse question types, serving as a strong benchmark for general tasks. The VizWiz dataset features real-world, noisy images from visually impaired users, testing the model’s robustness. This combination improves generalization by exposing the model to both standard and challenging scenarios, aligning well with our goal of building a versatile and reliable VQA system.\n",
    "### VizWiz\n",
    "The VizWiz-VQA dataset is derived from real-world photos taken by visually impaired people using a mobile phone app. When taking a photo, the visually impaired person usually asks a question about the picture in order to obtain information about their surroundings.\n",
    "It is a large-scale visual question answering dataset that contains\n",
    "- 23954 training image/question pairs\n",
    "- 205,230 training answer/answer confidence pairs\n",
    "- 7750 validation image/question pairs\n",
    "- 43,190 validation answer/answer confidence pairs\n",
    "- 8,000 test image/question pairs\n",
    "### VQA Dataset\n",
    "The VQA dataset is a collection of open-ended questions about images. For our project, we selected the Val2014 subset as the primary dataset. We then split it into 70% for training, 20% for validation, and 10% for testing.\n",
    "- 214,354 Total Samples\n",
    "- 70% for training\n",
    "- 20% for validation\n",
    "- 10% for testing"
   ]
  },
  {
   "cell_type": "markdown",
   "metadata": {
    "id": "maMO9Ff-eeQa"
   },
   "source": [
    "# Environment Initial"
   ]
  },
  {
   "cell_type": "markdown",
   "metadata": {},
   "source": [
    "In this project, due to the extensive computational requirements, our local machine could not support the data processing and model training. Therefore, we utilized Google Colab for these tasks. When using Colab, we needed to set up the environment and configure the file paths in advance to ensure the code runs smoothly."
   ]
  },
  {
   "cell_type": "code",
   "execution_count": 1,
   "metadata": {
    "colab": {
     "base_uri": "https://localhost:8080/"
    },
    "executionInfo": {
     "elapsed": 36925,
     "status": "ok",
     "timestamp": 1731684562318,
     "user": {
      "displayName": "tinghao li",
      "userId": "11315200994077395485"
     },
     "user_tz": -660
    },
    "id": "1Auf0NYVeRhk",
    "outputId": "5f11aef7-0aea-4c3e-f6bd-5ccaec59650e"
   },
   "outputs": [
    {
     "name": "stdout",
     "output_type": "stream",
     "text": [
      "Mounted at /content/drive\n"
     ]
    }
   ],
   "source": [
    "#check if in local or colab\n",
    "#if in colab run following two cells\n",
    "from google.colab import drive\n",
    "drive.mount('/content/drive')"
   ]
  },
  {
   "cell_type": "code",
   "execution_count": 2,
   "metadata": {
    "colab": {
     "base_uri": "https://localhost:8080/"
    },
    "executionInfo": {
     "elapsed": 11840,
     "status": "ok",
     "timestamp": 1731684575980,
     "user": {
      "displayName": "tinghao li",
      "userId": "11315200994077395485"
     },
     "user_tz": -660
    },
    "id": "vj6hxp5IeXPf",
    "outputId": "000ed082-fa0d-4ed1-bc26-c4d3cfc3c351"
   },
   "outputs": [
    {
     "name": "stdout",
     "output_type": "stream",
     "text": [
      "Collecting levenshtein\n",
      "  Downloading levenshtein-0.26.1-cp310-cp310-manylinux_2_17_x86_64.manylinux2014_x86_64.whl.metadata (3.2 kB)\n",
      "Collecting rapidfuzz<4.0.0,>=3.9.0 (from levenshtein)\n",
      "  Downloading rapidfuzz-3.10.1-cp310-cp310-manylinux_2_17_x86_64.manylinux2014_x86_64.whl.metadata (11 kB)\n",
      "Downloading levenshtein-0.26.1-cp310-cp310-manylinux_2_17_x86_64.manylinux2014_x86_64.whl (162 kB)\n",
      "\u001b[2K   \u001b[90m━━━━━━━━━━━━━━━━━━━━━━━━━━━━━━━━━━━━━━━━\u001b[0m \u001b[32m162.6/162.6 kB\u001b[0m \u001b[31m13.9 MB/s\u001b[0m eta \u001b[36m0:00:00\u001b[0m\n",
      "\u001b[?25hDownloading rapidfuzz-3.10.1-cp310-cp310-manylinux_2_17_x86_64.manylinux2014_x86_64.whl (3.1 MB)\n",
      "\u001b[2K   \u001b[90m━━━━━━━━━━━━━━━━━━━━━━━━━━━━━━━━━━━━━━━━\u001b[0m \u001b[32m3.1/3.1 MB\u001b[0m \u001b[31m82.6 MB/s\u001b[0m eta \u001b[36m0:00:00\u001b[0m\n",
      "\u001b[?25hInstalling collected packages: rapidfuzz, levenshtein\n",
      "Successfully installed levenshtein-0.26.1 rapidfuzz-3.10.1\n",
      "Collecting git+https://github.com/openai/CLIP.git\n",
      "  Cloning https://github.com/openai/CLIP.git to /tmp/pip-req-build-hsqa67qj\n",
      "  Running command git clone --filter=blob:none --quiet https://github.com/openai/CLIP.git /tmp/pip-req-build-hsqa67qj\n",
      "  Resolved https://github.com/openai/CLIP.git to commit dcba3cb2e2827b402d2701e7e1c7d9fed8a20ef1\n",
      "  Preparing metadata (setup.py) ... \u001b[?25l\u001b[?25hdone\n",
      "Collecting ftfy (from clip==1.0)\n",
      "  Downloading ftfy-6.3.1-py3-none-any.whl.metadata (7.3 kB)\n",
      "Requirement already satisfied: packaging in /usr/local/lib/python3.10/dist-packages (from clip==1.0) (24.2)\n",
      "Requirement already satisfied: regex in /usr/local/lib/python3.10/dist-packages (from clip==1.0) (2024.9.11)\n",
      "Requirement already satisfied: tqdm in /usr/local/lib/python3.10/dist-packages (from clip==1.0) (4.66.6)\n",
      "Requirement already satisfied: torch in /usr/local/lib/python3.10/dist-packages (from clip==1.0) (2.5.0+cu121)\n",
      "Requirement already satisfied: torchvision in /usr/local/lib/python3.10/dist-packages (from clip==1.0) (0.20.0+cu121)\n",
      "Requirement already satisfied: wcwidth in /usr/local/lib/python3.10/dist-packages (from ftfy->clip==1.0) (0.2.13)\n",
      "Requirement already satisfied: filelock in /usr/local/lib/python3.10/dist-packages (from torch->clip==1.0) (3.16.1)\n",
      "Requirement already satisfied: typing-extensions>=4.8.0 in /usr/local/lib/python3.10/dist-packages (from torch->clip==1.0) (4.12.2)\n",
      "Requirement already satisfied: networkx in /usr/local/lib/python3.10/dist-packages (from torch->clip==1.0) (3.4.2)\n",
      "Requirement already satisfied: jinja2 in /usr/local/lib/python3.10/dist-packages (from torch->clip==1.0) (3.1.4)\n",
      "Requirement already satisfied: fsspec in /usr/local/lib/python3.10/dist-packages (from torch->clip==1.0) (2024.10.0)\n",
      "Requirement already satisfied: sympy==1.13.1 in /usr/local/lib/python3.10/dist-packages (from torch->clip==1.0) (1.13.1)\n",
      "Requirement already satisfied: mpmath<1.4,>=1.1.0 in /usr/local/lib/python3.10/dist-packages (from sympy==1.13.1->torch->clip==1.0) (1.3.0)\n",
      "Requirement already satisfied: numpy in /usr/local/lib/python3.10/dist-packages (from torchvision->clip==1.0) (1.26.4)\n",
      "Requirement already satisfied: pillow!=8.3.*,>=5.3.0 in /usr/local/lib/python3.10/dist-packages (from torchvision->clip==1.0) (11.0.0)\n",
      "Requirement already satisfied: MarkupSafe>=2.0 in /usr/local/lib/python3.10/dist-packages (from jinja2->torch->clip==1.0) (3.0.2)\n",
      "Downloading ftfy-6.3.1-py3-none-any.whl (44 kB)\n",
      "\u001b[2K   \u001b[90m━━━━━━━━━━━━━━━━━━━━━━━━━━━━━━━━━━━━━━━━\u001b[0m \u001b[32m44.8/44.8 kB\u001b[0m \u001b[31m3.9 MB/s\u001b[0m eta \u001b[36m0:00:00\u001b[0m\n",
      "\u001b[?25hBuilding wheels for collected packages: clip\n",
      "  Building wheel for clip (setup.py) ... \u001b[?25l\u001b[?25hdone\n",
      "  Created wheel for clip: filename=clip-1.0-py3-none-any.whl size=1369489 sha256=4036d47b6cac3fba864384b0a38fd1196e2159a51c9c1f05f2a38fd2fd50f8b0\n",
      "  Stored in directory: /tmp/pip-ephem-wheel-cache-nvgz6aia/wheels/da/2b/4c/d6691fa9597aac8bb85d2ac13b112deb897d5b50f5ad9a37e4\n",
      "Successfully built clip\n",
      "Installing collected packages: ftfy, clip\n",
      "Successfully installed clip-1.0 ftfy-6.3.1\n"
     ]
    }
   ],
   "source": [
    "!pip install levenshtein\n",
    "!pip install git+https://github.com/openai/CLIP.git"
   ]
  },
  {
   "cell_type": "markdown",
   "metadata": {
    "id": "Hc8Y7E74eaJj"
   },
   "source": [
    "# Import Libraries"
   ]
  },
  {
   "cell_type": "code",
   "execution_count": 3,
   "metadata": {
    "colab": {
     "base_uri": "https://localhost:8080/"
    },
    "executionInfo": {
     "elapsed": 9994,
     "status": "ok",
     "timestamp": 1731684594584,
     "user": {
      "displayName": "tinghao li",
      "userId": "11315200994077395485"
     },
     "user_tz": -660
    },
    "id": "gCgZoY17eZby",
    "outputId": "d89ee02d-07c1-4ed4-89cb-dd64c63fe90a"
   },
   "outputs": [
    {
     "name": "stdout",
     "output_type": "stream",
     "text": [
      "import done\n"
     ]
    }
   ],
   "source": [
    "# Importing os, numpy and pandas for data manipulation\n",
    "import os\n",
    "import numpy as np\n",
    "import pandas as pd\n",
    "\n",
    "# For data visualization, we will use matplotlib, wordcloud\n",
    "import matplotlib.pyplot as plt\n",
    "from wordcloud import WordCloud\n",
    "\n",
    "# For data preprocessing, we will use Counter, train_test_split, Levenshtein distance, Python Image Library and OneHotEncoder\n",
    "from collections import Counter\n",
    "import Levenshtein as lev\n",
    "from PIL import Image\n",
    "from sklearn.preprocessing import OneHotEncoder\n",
    "from sklearn.model_selection import train_test_split\n",
    "\n",
    "# For saving and loading the preprocessed data, we will use pickle\n",
    "import pickle\n",
    "\n",
    "# For Building the model, we will use PyTorch and its functions\n",
    "import torch\n",
    "import torch.nn as nn\n",
    "import torch.nn.functional as F\n",
    "import torch.optim as optim\n",
    "import clip\n",
    "from torch.utils.data import Dataset, DataLoader\n",
    "\n",
    "# For taking the image from the URL, we will use requests\n",
    "import requests\n",
    "\n",
    "# For evaluation, we will need sklearn.metrics.average_precision_score\n",
    "from sklearn.metrics import average_precision_score\n",
    "\n",
    "# Importing json for results formatting which will be uploaded for evaluation\n",
    "import json\n",
    "import random\n",
    "import math\n",
    "print('import done')"
   ]
  },
  {
   "cell_type": "markdown",
   "metadata": {
    "id": "hfL1iiOFekiz"
   },
   "source": [
    "# Path Configure"
   ]
  },
  {
   "cell_type": "code",
   "execution_count": 4,
   "metadata": {
    "colab": {
     "base_uri": "https://localhost:8080/"
    },
    "executionInfo": {
     "elapsed": 1048,
     "status": "ok",
     "timestamp": 1731684617723,
     "user": {
      "displayName": "tinghao li",
      "userId": "11315200994077395485"
     },
     "user_tz": -660
    },
    "id": "tzTDTWEEem91",
    "outputId": "f000e03b-ac42-4b3f-91f6-29e014627653"
   },
   "outputs": [
    {
     "name": "stdout",
     "output_type": "stream",
     "text": [
      "Device:  cuda\n"
     ]
    }
   ],
   "source": [
    "#this is path for clip based model training on Vizwiz Dataset\n",
    "INPUT_PATH = '/content/drive/MyDrive/9444clip/comp9444'\n",
    "ANNOTATIONS = INPUT_PATH + '/Annotations/Annotations'\n",
    "TRAIN_PATH = INPUT_PATH + '/train/train'\n",
    "VALIDATION_PATH = INPUT_PATH + '/val/val'\n",
    "ANNOTATIONS_TRAIN_PATH = ANNOTATIONS + '/train.json'\n",
    "ANNOTATIONS_VAL_PATH = ANNOTATIONS + '/val.json'\n",
    "OUTPUT_PATH = '/content/drive/MyDrive/9444clip/OUTPUT/'\n",
    "ANSWER_SPACE = 0 # Will be configured later when we build the vocab using the methodology described in the paper\n",
    "MODEL_NAME = \"ViT-L/14@336px\" # This is the backbone of the CLIP model\n",
    "\n",
    "# Using accelerated computing if available\n",
    "DEVICE = torch.device(\"cuda\" if torch.cuda.is_available() else \"cpu\")\n",
    "print(\"Device: \", DEVICE)"
   ]
  },
  {
   "cell_type": "markdown",
   "metadata": {
    "id": "oVvYXMy9fPs0"
   },
   "source": [
    "# Function Define"
   ]
  },
  {
   "cell_type": "markdown",
   "metadata": {},
   "source": [
    "The following cell defines functions for exploratory data analysis and preprocessing of data\n",
    "- `read_dataframe` function reads a JSON file and returns a dataframe with required columns\n",
    "- `split_train_valid_test` function splits the dataframe into train, validation and test sets\n",
    "- `split_train_test` function splits the dataframe into train and test sets\n",
    "- `plot_histogram`, `plot_pie`, and `plot_wordcloud` functions plot the histogram, pie chart, and wordcloud of the given column, respectively\n",
    "- `explore_dataframe` function explores the dataframe by utilizing the previous functions\n",
    "- `get_number_of_distinct_answers` function returns the number of distinct answers in the dataframe\n",
    "- `process_images` function processes the images in the dataframe and returns the image features using Open AI's CLIP model\n",
    "- `process_questions` function processes the questions in the dataframe and returns the question features using Open AI's CLIP model\n",
    "- `process_single_image` function processes the single image in the dataframe and returns the image features using Open AI's CLIP model\n",
    "- `process_single_question` function processes the single question in the dataframe and returns the question features using Open AI's CLIP model"
   ]
  },
  {
   "cell_type": "code",
   "execution_count": 30,
   "metadata": {
    "executionInfo": {
     "elapsed": 485,
     "status": "ok",
     "timestamp": 1731686228476,
     "user": {
      "displayName": "tinghao li",
      "userId": "11315200994077395485"
     },
     "user_tz": -660
    },
    "id": "4Tu4zFmEfRul"
   },
   "outputs": [],
   "source": [
    "def read_dataframe(path):\n",
    "    \"\"\"\n",
    "    Reads the JSON file and returns a dataframe with the required columns (image, question, answers, answer_type, answerable)\n",
    "\n",
    "    Parameters:\n",
    "        path (str): Path to the JSON file\n",
    "\n",
    "    Returns:\n",
    "        df (pandas.DataFrame): Dataframe with the required columns\n",
    "    \"\"\"\n",
    "    df = pd.read_json(path)\n",
    "    df = df[['image', 'question', 'answers', 'answer_type', 'answerable']]\n",
    "    return df\n",
    "def split_train_valid_test(dataframe, train_size=0.7, valid_size=0.2, test_size=0.1):\n",
    "    # Step 1: Split into train and remaining sets (remaining will be split into valid and test sets)\n",
    "    train, remaining = train_test_split(dataframe, test_size=(1 - train_size), random_state=42, stratify=dataframe[['answer_type']])\n",
    "    # Step 2: Split remaining set into validation and test sets (valid_size is 2/3 of remaining, test_size is 1/3)\n",
    "    valid, test = train_test_split(remaining, test_size=test_size/(test_size + valid_size), random_state=42, stratify=remaining[['answer_type']])\n",
    "    return train, valid, test\n",
    "def split_train_test(dataframe, test_size = 0.05):\n",
    "    \"\"\"\n",
    "    Splits the dataframe into train and test sets\n",
    "\n",
    "    Parameters:\n",
    "        dataframe (pandas.DataFrame): Dataframe to be split\n",
    "\n",
    "    Returns:\n",
    "        train (pandas.DataFrame): Train set\n",
    "        test (pandas.DataFrame): Test set\n",
    "    \"\"\"\n",
    "    train, test = train_test_split(dataframe, test_size=test_size, random_state=42, stratify=dataframe[['answer_type', 'answerable']])\n",
    "    return train, test\n",
    "\n",
    "def plot_histogram(dataframe, column):\n",
    "    \"\"\"\n",
    "    Plots the histogram of the given column\n",
    "\n",
    "    Parameters:\n",
    "        dataframe (pandas.DataFrame): Dataframe to be plotted\n",
    "        column (str): Column to be plotted\n",
    "\n",
    "    Returns:\n",
    "        None\n",
    "    \"\"\"\n",
    "    plt.hist(dataframe[column])\n",
    "    plt.title(column)\n",
    "    plt.show()\n",
    "\n",
    "def plot_pie(dataframe, column):\n",
    "    \"\"\"\n",
    "    Plots the pie chart of the given column\n",
    "\n",
    "    Parameters:\n",
    "        dataframe (pandas.DataFrame): Dataframe to be plotted\n",
    "        column (str): Column to be plotted\n",
    "\n",
    "    Returns:\n",
    "        None\n",
    "    \"\"\"\n",
    "    value_counts = dataframe[column].value_counts()\n",
    "    plt.pie(value_counts, labels=value_counts.index, autopct='%1.1f%%')\n",
    "    plt.title(column)\n",
    "    plt.show()\n",
    "\n",
    "def plot_wordcloud(dataframe, column):\n",
    "    \"\"\"\n",
    "    Plots the wordcloud of the given column\n",
    "\n",
    "    Parameters:\n",
    "        dataframe (pandas.DataFrame): Dataframe to be plotted\n",
    "        column (str): Column to be plotted\n",
    "\n",
    "    Returns:\n",
    "        None\n",
    "    \"\"\"\n",
    "    text = \" \".join([word for word in dataframe[column]])\n",
    "\n",
    "    wordcloud = WordCloud(width = 800, height = 800,\n",
    "                    background_color ='white',\n",
    "                    min_font_size = 10).generate(text)\n",
    "\n",
    "    plt.figure(figsize = (8, 8), facecolor = None)\n",
    "    plt.imshow(wordcloud)\n",
    "    plt.axis(\"off\")\n",
    "    plt.tight_layout(pad = 0)\n",
    "    plt.show()\n",
    "\n",
    "def explore_dataframe(dataframe):\n",
    "    \"\"\"\n",
    "    Explores the dataframe (EDA) by plotting the pie charts, histograms and wordclouds of the columns\n",
    "\n",
    "    Parameters:\n",
    "        dataframe (pandas.DataFrame): Dataframe to be explored\n",
    "\n",
    "    Returns:\n",
    "        None\n",
    "    \"\"\"\n",
    "    plot_pie(dataframe, 'answer_type')\n",
    "    plot_pie(dataframe, 'answerable')\n",
    "    plot_histogram(dataframe, 'answerable')\n",
    "    plot_wordcloud(dataframe, 'question')\n",
    "\n",
    "def get_number_of_distinct_answers(dataframe):\n",
    "    \"\"\"\n",
    "    Returns the number of distinct answers in the dataframe\n",
    "\n",
    "    Parameters:\n",
    "        dataframe (pandas.DataFrame): Dataframe to be explored\n",
    "\n",
    "    Returns:\n",
    "        len(unique_answers_set) (int): Number of distinct answers in the dataframe\n",
    "    \"\"\"\n",
    "    unique_answers_set = set()\n",
    "    for row in dataframe['answers']:\n",
    "        for answer_map in row:\n",
    "            unique_answers_set.add(answer_map['answer'])\n",
    "    return len(unique_answers_set)\n",
    "\n",
    "def process_images(dataframe, image_path, clip_model, preprocessor, device):\n",
    "    \"\"\"\n",
    "    Processes the images in the dataframe and returns the image features\n",
    "\n",
    "    Parameters:\n",
    "        dataframe (pandas.DataFrame): Dataframe containing the images\n",
    "        image_path (str): Path to the input images\n",
    "        clip_model (clip.model.CLIP): CLIP model\n",
    "        preprocessor (clip.model.Preprocess): Preprocessor for the CLIP model\n",
    "        device (torch.device): Device to be used for processing\n",
    "\n",
    "    Returns:\n",
    "        images (list): List of image features\n",
    "    \"\"\"\n",
    "    images = []\n",
    "    for _, row in dataframe.iterrows():\n",
    "        full_path = image_path + \"/\" + row['image']\n",
    "        image = Image.open(full_path)\n",
    "        image = preprocessor(image).unsqueeze(0).to(device)\n",
    "        image_features = clip_model.encode_image(image)\n",
    "        image_features = torch.flatten(image_features, start_dim=1)\n",
    "        images.append(image_features)\n",
    "    return images\n",
    "\n",
    "def process_questions(dataframe, clip_model,device):\n",
    "    \"\"\"\n",
    "    Processes the questions in the dataframe and returns the question features\n",
    "\n",
    "    Parameters:\n",
    "        dataframe (pandas.DataFrame): Dataframe containing the questions\n",
    "        clip_model (clip.model.CLIP): CLIP model\n",
    "        device (torch.device): Device to be used for processing\n",
    "\n",
    "    Returns:\n",
    "        questions (list): List of question features\n",
    "    \"\"\"\n",
    "    questions = []\n",
    "    for _, row in dataframe.iterrows():\n",
    "        question = row['question']\n",
    "        question =  clip.tokenize(question).to(device)\n",
    "        text_features = clip_model.encode_text(question).float()\n",
    "        text_features = torch.flatten(text_features, start_dim=1)\n",
    "        questions.append(text_features)\n",
    "    return questions"
   ]
  },
  {
   "cell_type": "code",
   "execution_count": null,
   "metadata": {},
   "outputs": [],
   "source": [
    "def process_single_image(image_path, clip_model, preprocessor, device):\n",
    "    \"\"\"\n",
    "    Processes a single image and returns the image feature\n",
    "\n",
    "    Parameters:\n",
    "        image_path (str): Path to the image\n",
    "        clip_model (clip.model.CLIP): CLIP model\n",
    "        preprocessor (clip.model.Preprocess): Preprocessor for the CLIP model\n",
    "        device (torch.device): Device to be used for processing\n",
    "\n",
    "    Returns:\n",
    "        image_feature (torch.Tensor): Image feature extracted by CLIP\n",
    "    \"\"\"\n",
    "    image = Image.open(image_path).convert(\"RGB\")\n",
    "    image = preprocessor(image).unsqueeze(0).to(device)\n",
    "    #with torch.no_grad():\n",
    "    image_feature = clip_model.encode_image(image).float()\n",
    "    #image_feature =  image_feature.unsqueeze(0).to(device)\n",
    "    return torch.flatten(image_feature, start_dim=1)\n",
    "\n",
    "\n",
    "def process_single_question(question_text, clip_model, device):\n",
    "    \"\"\"\n",
    "    Processes a single question and returns the question feature\n",
    "\n",
    "    Parameters:\n",
    "        question_text (str): The question text\n",
    "        clip_model (clip.model.CLIP): CLIP model\n",
    "        device (torch.device): Device to be used for processing\n",
    "\n",
    "    Returns:\n",
    "        question_feature (torch.Tensor): Question feature extracted by CLIP\n",
    "    \"\"\"\n",
    "    question = clip.tokenize(question_text).to(device)\n",
    "    #with torch.no_grad():\n",
    "    question_feature = clip_model.encode_text(question).float()\n",
    "    return torch.flatten(question_feature, start_dim=1)"
   ]
  },
  {
   "cell_type": "markdown",
   "metadata": {
    "id": "Z5b4AnpFfYPJ"
   },
   "source": [
    "# Dataset Define"
   ]
  },
  {
   "cell_type": "code",
   "execution_count": 6,
   "metadata": {
    "executionInfo": {
     "elapsed": 964,
     "status": "ok",
     "timestamp": 1731684628299,
     "user": {
      "displayName": "tinghao li",
      "userId": "11315200994077395485"
     },
     "user_tz": -660
    },
    "id": "66ugBQVGfbTW"
   },
   "outputs": [],
   "source": [
    "class VizWizDataset(Dataset):\n",
    "    def __init__(self, dataframe, answer_type_onehotencoder = None, answer_onehotencoder = None, model_name = \"RN50x64\", images_features = torch.tensor([]), questions_features = torch.tensor([])):\n",
    "        super(VizWizDataset, self).__init__()\n",
    "\n",
    "        # Total counter for all answers before filtering, used in Tie Breaking when building the answer vocabulary\n",
    "        self.answer_counter = Counter()\n",
    "\n",
    "        # Saving image & question embeddings\n",
    "        self.images_features = images_features\n",
    "        self.questions_features = questions_features\n",
    "        self.answerable = dataframe['answerable'].to_numpy()\n",
    "\n",
    "        # Saving the dataframe\n",
    "        self.dataframe = dataframe\n",
    "\n",
    "        # List for answers for each question (each question has 10 answers)\n",
    "        self.answer_counter_per_question = []\n",
    "\n",
    "        # Populating the counter for words in answers which will be used when building answer vocabulary\n",
    "        self.build_answer_counter()\n",
    "\n",
    "        # Building the answer vocabulary according to the methodology explained in the paper\n",
    "        self.build_answer_vocab()\n",
    "\n",
    "        # The number of vocabulary words after filtering\n",
    "        print(\"Number of distinct answers: \", len(self.get_answer_vocab()))\n",
    "\n",
    "        # One hot encoding the answers\n",
    "        if answer_type_onehotencoder is None:\n",
    "            answer_type_onehotencoder = OneHotEncoder(handle_unknown='ignore')\n",
    "            answer_type_onehotencoder.fit(self.copied_dataframe[['answer_type']])\n",
    "\n",
    "        # One hot encoding the answer types\n",
    "        if answer_onehotencoder is None:\n",
    "            answer_onehotencoder = OneHotEncoder(handle_unknown='ignore')\n",
    "            answer_onehotencoder.fit(self.copied_dataframe[['answer']])\n",
    "\n",
    "        # Saving the one hot encoders\n",
    "        self.answer_onehotencoder = answer_onehotencoder\n",
    "        self.answer_type_onehotencoder = answer_type_onehotencoder\n",
    "\n",
    "        # Transforming the answers and answer types to one hot encoded vectors\n",
    "        self.answer_onehotencoded = answer_onehotencoder.transform(self.copied_dataframe[['answer']]).toarray()\n",
    "        self.answer_type_onehotencoded = answer_type_onehotencoder.transform(self.copied_dataframe[['answer_type']]).toarray()\n",
    "\n",
    "        # Saving the answer categories (vocabulary) which will be used when getting index of the predicted answer\n",
    "        self.answers_categories = self.answer_onehotencoder.categories_[0].tolist()\n",
    "\n",
    "        # Saving answers for each question (each question has 10 answers)\n",
    "        self.build_answer_counter_per_question()\n",
    "\n",
    "    def __len__(self):\n",
    "        return len(self.dataframe)\n",
    "\n",
    "    def __getitem__(self, index):\n",
    "        answer = torch.tensor(self.answer_onehotencoded[index], dtype=torch.float32)\n",
    "        answer_type = torch.tensor(self.answer_type_onehotencoded[index], dtype=torch.float32)\n",
    "        answer_counter = torch.tensor(self.answer_counter_per_question[index], dtype=torch.long)\n",
    "        answerable = torch.tensor(self.answerable[index], dtype=torch.float32)\n",
    "        return self.images_features[index], self.questions_features[index], answer, answer_type, answer_counter, answerable\n",
    "\n",
    "    def build_answer_counter_per_question(self):\n",
    "\n",
    "        for index, row in self.dataframe.iterrows():\n",
    "            temp_list = []\n",
    "            for answer_map in row['answers']:\n",
    "                answer = answer_map['answer']\n",
    "                # check if answer in self.answers_categories\n",
    "                if answer in self.answers_categories:\n",
    "                    answer_index = self.answers_categories.index(answer)\n",
    "                    temp_list.append(answer_index)\n",
    "            # Torch.tensor requires the all the lists to have constant length, so we pad the list with -1 if needed\n",
    "            while len(temp_list) < 10:\n",
    "                temp_list.append(-1)\n",
    "            self.answer_counter_per_question.append(temp_list)\n",
    "\n",
    "\n",
    "\n",
    "    def build_answer_vocab(self):\n",
    "        # Building answer vocab follow this policy:\n",
    "        # for each question we have 10 answers, we choose the most frequent answer as the answer for this question\n",
    "        # if there is a tie, we choose the most common one in the whole dataset\n",
    "        # if there is a tie, we choose the pairwise Levenshtein distance is used to find the answer that is most representative to all others.\n",
    "\n",
    "        # Copying the original dataframe which will be manipulated\n",
    "        self.copied_dataframe = self.dataframe.copy()\n",
    "        self.copied_dataframe.drop(columns=['answers'], inplace=True)\n",
    "\n",
    "        # Adding extra column named 'answer'\n",
    "        self.copied_dataframe['answer'] = None\n",
    "\n",
    "        for index, row in self.dataframe.iterrows():\n",
    "            intermediate_counter = Counter()\n",
    "            for answer_map in row['answers']:\n",
    "                answer = answer_map['answer']\n",
    "                intermediate_counter.update([answer])\n",
    "\n",
    "            # let's see the top elements in the answers_counter to check if there is a tie\n",
    "            top_elements = intermediate_counter.most_common(1)\n",
    "            if len(top_elements) == 1:\n",
    "                self.copied_dataframe.at[index, 'answer'] = top_elements[0][0]\n",
    "            else:\n",
    "                # let's see who is the most common answer in the whole dataset\n",
    "                top_elements = self.answer_counter.most_common(1)\n",
    "                if len(top_elements) == 1:\n",
    "                    self.copied_dataframe.at[index, 'answer'] = top_elements[0][0]\n",
    "                else:\n",
    "                    # let's get the minimum levenshtein distance between the answers in top_elements\n",
    "                    current_min = np.inf\n",
    "                    current_answer = None\n",
    "                    for answer in top_elements:\n",
    "                        total_distance = 0\n",
    "                        for answer2 in top_elements:\n",
    "                            if answer != answer2:\n",
    "                                lev_distance = lev.distance(answer[0], answer2[0])\n",
    "                                total_distance += lev_distance\n",
    "                        if total_distance < current_min:\n",
    "                            current_min = total_distance\n",
    "                            current_answer = answer[0]\n",
    "                    self.copied_dataframe.at[index, 'answer'] = current_answer\n",
    "        return\n",
    "\n",
    "    def build_answer_counter(self):\n",
    "        for row in self.dataframe['answers']:\n",
    "            for answer_map in row:\n",
    "                self.answer_counter.update([answer_map['answer']])\n",
    "\n",
    "    def get_answer_vocab(self):\n",
    "        return self.copied_dataframe['answer'].unique()"
   ]
  },
  {
   "cell_type": "markdown",
   "metadata": {
    "id": "pSoZjBklfSpd"
   },
   "source": [
    "# Model Define"
   ]
  },
  {
   "cell_type": "markdown",
   "metadata": {
    "id": "0V3U9_lcZPc0"
   },
   "source": [
    "## Initial Model(version 1)"
   ]
  },
  {
   "cell_type": "markdown",
   "metadata": {
    "id": "pHi3IjrEZ0xH"
   },
   "source": [
    "In here, because we didn't use this model in the final version so we just show the structure of the intial model."
   ]
  },
  {
   "cell_type": "markdown",
   "metadata": {},
   "source": [
    "Initially, we developed a basic VQA model using only linear layer for prediction. However, this model performed poorly on our benchmark, achieving an accuracy of just 4%. The structure of this model is shown in picture.\n",
    "\n",
    "![model1](model1.jpg)"
   ]
  },
  {
   "cell_type": "code",
   "execution_count": 7,
   "metadata": {
    "executionInfo": {
     "elapsed": 500,
     "status": "ok",
     "timestamp": 1731684637062,
     "user": {
      "displayName": "tinghao li",
      "userId": "11315200994077395485"
     },
     "user_tz": -660
    },
    "id": "si9WmOgAZVAj"
   },
   "outputs": [],
   "source": [
    "class VQAModel(nn.Module):\n",
    "\n",
    "    def __init__(self, num_classes, hidden_size, model_name = \"ViT-L/14@336px\", device = torch.device(\"cpu\")):\n",
    "        super(VQAModel, self).__init__()\n",
    "\n",
    "        self.training_losses = []\n",
    "        self.validation_losses = []\n",
    "\n",
    "        self.training_accuracies = []\n",
    "        self.validation_accuracies = []\n",
    "\n",
    "        self.vizwiz_training_accuracies = []\n",
    "        self.vizwiz_validation_accuracies = []\n",
    "\n",
    "        self.training_answerability = []\n",
    "        self.validation_answerability = []\n",
    "\n",
    "        self.device = device\n",
    "        self.model_name = model_name\n",
    "\n",
    "        # Initializing Binary Cross Entropy Loss which will be used to train the model on answerability\n",
    "        self.answerability_loss_fn = nn.BCELoss()\n",
    "\n",
    "        # Loading the CLIP model\n",
    "        self.clip_model, self.preprocess = clip.load(model_name, device = device)\n",
    "\n",
    "        # Freezing the CLIP model\n",
    "        for param in self.clip_model.parameters():\n",
    "            param.requires_grad = False\n",
    "\n",
    "        # First linear layer\n",
    "        self.linear_layer1 = nn.Sequential(\n",
    "            nn.LayerNorm(self.clip_model.visual.output_dim + self.clip_model.text_projection.shape[1]),\n",
    "            nn.Dropout(p=0.5),\n",
    "            nn.Linear(self.clip_model.visual.output_dim + self.clip_model.text_projection.shape[1], hidden_size)\n",
    "        )\n",
    "\n",
    "        # Second linear layer\n",
    "        self.linear_layer2 = nn.Sequential(\n",
    "            nn.LayerNorm(hidden_size),\n",
    "            nn.Dropout(p=0.5),\n",
    "            nn.Linear(hidden_size, num_classes)\n",
    "        )\n",
    "\n",
    "        self.answer_type_layer = nn.Linear(hidden_size, 4)\n",
    "        self.answer_mask_layer = nn.Linear(4, num_classes)\n",
    "\n",
    "        self.sigmoid = nn.Sigmoid()\n",
    "\n",
    "        # Answerability Linear Layer (We removed drop out layer because training answerability was very bad)\n",
    "        self.answerability_linear_layer = nn.Sequential(\n",
    "            nn.LayerNorm(self.clip_model.visual.output_dim + self.clip_model.text_projection.shape[1]),\n",
    "            nn.Linear(self.clip_model.visual.output_dim + self.clip_model.text_projection.shape[1], hidden_size)\n",
    "        )\n",
    "\n",
    "        # Answerability Sigmoid Layer\n",
    "        self.answerability_final_layer = nn.Linear(hidden_size, 1)\n",
    "\n",
    "        # Sigmoid Layer for Answerability\n",
    "        self.answerability_sigmoid = nn.Sigmoid()"
   ]
  },
  {
   "cell_type": "markdown",
   "metadata": {
    "id": "Utz_hW2eaEEN"
   },
   "source": [
    "## Final Model"
   ]
  },
  {
   "cell_type": "markdown",
   "metadata": {},
   "source": [
    "To boost the model’s performance, we experimented with various combinations of techniques, including adding more convolutional layers for feature extraction and trying out several minor optimizations. After extensive testing and considering the trade-off between performance gains and computational costs, we settled on using three main methods: position encoding, double cross-attention, and a dynamic gating mechanism.This enhanced architecture significantly improved performance, achieving an 18% accuracy on our benchmark dataset. Below is the new model architecture:\n",
    "\n",
    "![Model2](model2.jpg)"
   ]
  },
  {
   "cell_type": "markdown",
   "metadata": {
    "id": "YQ1tTEbAfe0_"
   },
   "source": [
    "### Position Encoding"
   ]
  },
  {
   "cell_type": "markdown",
   "metadata": {},
   "source": [
    "Position Encoding is a technique used to provide information about the relative or absolute positions of elements in input data. In visual question answering (VQA) models, position encoding helps the model understand the spatial layout of objects in an image, which is crucial for interpreting and answering questions related to the content."
   ]
  },
  {
   "cell_type": "code",
   "execution_count": 8,
   "metadata": {
    "executionInfo": {
     "elapsed": 1015,
     "status": "ok",
     "timestamp": 1731684646959,
     "user": {
      "displayName": "tinghao li",
      "userId": "11315200994077395485"
     },
     "user_tz": -660
    },
    "id": "kYbJeIHAfUo1"
   },
   "outputs": [],
   "source": [
    "# --- Positional Encoding Module ---\n",
    "class PositionalEncoding(nn.Module):\n",
    "    def __init__(self, embed_dim, max_len=5000):\n",
    "        super(PositionalEncoding, self).__init__()\n",
    "        position = torch.arange(0, max_len).unsqueeze(1)\n",
    "        div_term = torch.exp(torch.arange(0, embed_dim, 2) * -(math.log(10000.0) / embed_dim))\n",
    "        pe = torch.zeros(max_len, embed_dim)\n",
    "        pe[:, 0::2] = torch.sin(position * div_term)\n",
    "        pe[:, 1::2] = torch.cos(position * div_term)\n",
    "        pe = pe.unsqueeze(0)\n",
    "        self.register_buffer('pe', pe)\n",
    "\n",
    "    def forward(self, x):\n",
    "        x = x + self.pe[:, :x.size(1)]\n",
    "        return x"
   ]
  },
  {
   "cell_type": "markdown",
   "metadata": {
    "id": "SLW7XbDYfk19"
   },
   "source": [
    "### Model"
   ]
  },
  {
   "cell_type": "code",
   "execution_count": 15,
   "metadata": {
    "executionInfo": {
     "elapsed": 515,
     "status": "ok",
     "timestamp": 1731684969302,
     "user": {
      "displayName": "tinghao li",
      "userId": "11315200994077395485"
     },
     "user_tz": -660
    },
    "id": "DAJbTazNfm4i"
   },
   "outputs": [],
   "source": [
    "class VQAModel(nn.Module):\n",
    "\n",
    "    def __init__(self, num_classes, hidden_size, model_name=\"ViT-L/14@336px\", device=torch.device(\"cpu\")):\n",
    "        super(VQAModel, self).__init__()\n",
    "        self.training_losses = []\n",
    "        self.validation_losses = []\n",
    "        self.training_accuracies = []\n",
    "        self.validation_accuracies = []\n",
    "        self.vizwiz_training_accuracies = []\n",
    "        self.vizwiz_validation_accuracies = []\n",
    "        self.device = device\n",
    "        self.model_name = model_name\n",
    "\n",
    "        # Load the CLIP model and freeze its parameters\n",
    "        self.clip_model, self.preprocess = clip.load(model_name, device=device, download_root=os.path.join('CLIP_checkpoints'))\n",
    "        for param in self.clip_model.parameters():\n",
    "            param.requires_grad = False\n",
    "\n",
    "        # Cross-Modality transformer\n",
    "        visual_embed_dim = self.clip_model.visual.output_dim\n",
    "        text_embed_dim = self.clip_model.text_projection.shape[1]\n",
    "\n",
    "        # Positional Encoding for visual and text features\n",
    "        self.visual_positional_encoding = PositionalEncoding(visual_embed_dim)\n",
    "        self.text_positional_encoding = PositionalEncoding(text_embed_dim)\n",
    "\n",
    "        # Visual pathway\n",
    "        self.visual_cross_attention = nn.MultiheadAttention(embed_dim=visual_embed_dim, num_heads=1, batch_first=True)\n",
    "        self.visual_feed_forward = nn.Sequential(\n",
    "            nn.Linear(visual_embed_dim, 2 * visual_embed_dim),\n",
    "            nn.ReLU(),\n",
    "            nn.Dropout(0.2),\n",
    "            nn.Linear(2 * visual_embed_dim, visual_embed_dim)\n",
    "        )\n",
    "        self.visual_norm = nn.LayerNorm(visual_embed_dim)\n",
    "\n",
    "        # Text pathway\n",
    "        self.text_cross_attention = nn.MultiheadAttention(embed_dim=text_embed_dim, num_heads=1, batch_first=True)\n",
    "        self.text_feed_forward = nn.Sequential(\n",
    "            nn.Linear(text_embed_dim, 2 * text_embed_dim),\n",
    "            nn.ReLU(),\n",
    "            nn.Dropout(0.2),\n",
    "            nn.Linear(2 * text_embed_dim, text_embed_dim)\n",
    "        )\n",
    "        self.text_norm = nn.LayerNorm(text_embed_dim)\n",
    "        self.dropout = nn.Dropout(0.2)\n",
    "\n",
    "        # Dynamic gating layer\n",
    "        self.gate_predictor = nn.Sequential(\n",
    "            nn.Linear(visual_embed_dim, visual_embed_dim // 2),\n",
    "            nn.ReLU(),\n",
    "            nn.Linear(visual_embed_dim // 2, 1),\n",
    "            nn.Sigmoid()  # Output range is [0, 1]\n",
    "        )\n",
    "\n",
    "        # Additional linear layer\n",
    "        self.additional_linear = nn.Linear(visual_embed_dim, hidden_size)\n",
    "\n",
    "        # Classification Head\n",
    "        self.classification_head = nn.Sequential(\n",
    "            nn.Linear(hidden_size, hidden_size),\n",
    "            nn.ReLU(),\n",
    "            nn.Dropout(0.2),\n",
    "            nn.Linear(hidden_size, num_classes)\n",
    "        )\n",
    "\n",
    "    def forward(self, image_features, question_features):\n",
    "        eps = 1e-6\n",
    "        image_features = self.visual_positional_encoding(image_features.to(torch.float32) + eps)\n",
    "        question_features = self.text_positional_encoding(question_features.to(torch.float32) + eps)\n",
    "\n",
    "        # Text-to-image cross attention\n",
    "        text_with_image_context, _ = self.text_cross_attention(question_features, image_features, image_features)\n",
    "        question_features = question_features + self.dropout(text_with_image_context)\n",
    "        question_features = self.text_norm(question_features)\n",
    "\n",
    "        # Image-to-text cross attention\n",
    "        image_with_text_context, _ = self.visual_cross_attention(image_features, question_features, question_features)\n",
    "        image_features = image_features + self.dropout(image_with_text_context)\n",
    "        image_features = self.visual_norm(image_features)\n",
    "\n",
    "        # Feed-forward\n",
    "        text_ff_output = self.text_feed_forward(question_features)\n",
    "        question_features = question_features + self.dropout(text_ff_output)\n",
    "        question_features = self.text_norm(question_features)\n",
    "\n",
    "        image_ff_output = self.visual_feed_forward(image_features)\n",
    "        image_features = image_features + self.dropout(image_ff_output)\n",
    "        image_features = self.visual_norm(image_features)\n",
    "\n",
    "        # Initialize combined_features as the mean of visual and text features\n",
    "        combined_features = (image_features + question_features) / 2\n",
    "\n",
    "        # Dynamic gating mechanism\n",
    "        gate_value = self.gate_predictor(combined_features)\n",
    "\n",
    "        # Adjust the shape of gate_value to match image_features and question_features\n",
    "        gate_value = gate_value.expand_as(image_features)\n",
    "\n",
    "        # Calculate gated_visual and gated_text\n",
    "        gated_visual = gate_value * image_features\n",
    "        gated_text = (1 - gate_value) * question_features\n",
    "\n",
    "        # Combined features after gating\n",
    "        combined_features = gated_visual + gated_text\n",
    "\n",
    "        # Mean pooling over sequence length\n",
    "        combined_features = combined_features.mean(dim=1)\n",
    "\n",
    "        # Pass through the additional linear layer\n",
    "        combined_features = self.additional_linear(combined_features)\n",
    "\n",
    "        # Classification head\n",
    "        logits = self.classification_head(combined_features)\n",
    "\n",
    "        return logits, 1, 1\n",
    "\n",
    "    def train_model(self, training_dataloader, validation_dataloader, test_dataloader, criterion, optimizer, epochs = 10, save_path = None, save_every = 1):\n",
    "        n=2\n",
    "        for epoch in range(1,epochs+1):\n",
    "            training_loss, training_accuracy, training_vizwiz_accuracy = self.training_step(training_dataloader, criterion, optimizer, self.device)\n",
    "            validation_loss, validation_accuracy, validation_vizwiz_accuracy = self.validation_step(validation_dataloader, criterion, self.device)\n",
    "            test_accuracy, test_vizwiz_accuracy = self.test_step(test_dataloader)\n",
    "\n",
    "            self.training_losses.append(training_loss)\n",
    "            self.validation_losses.append(validation_loss)\n",
    "\n",
    "            self.training_accuracies.append(training_accuracy)\n",
    "            self.validation_accuracies.append(validation_accuracy)\n",
    "\n",
    "            self.vizwiz_training_accuracies.append(training_vizwiz_accuracy)\n",
    "            self.vizwiz_validation_accuracies.append(validation_vizwiz_accuracy)\n",
    "\n",
    "\n",
    "            print(\"Epoch: {} | Training Loss: {:.3f} | Validation Loss: {:.3f}\".format(epoch, training_loss, validation_loss))\n",
    "            print(\"Epoch: {} | Training Accuracy: {:.3f} | Validation Accuracy: {:.3f} | Test Accuracy: {:.3f}\".format(epoch, training_accuracy, validation_accuracy, test_accuracy))\n",
    "            print(\"Epoch: {} | Training VizWiz Accuracy: {:.3f} | Validation VizWiz Accuracy: {:.3f} | Test VizWiz Accuracy: {:.3f}\".format(epoch, training_vizwiz_accuracy, validation_vizwiz_accuracy, test_vizwiz_accuracy))\n",
    "\n",
    "            if save_path != None and epoch % save_every == 0:\n",
    "                saved_name = \"epoch_{}.pth\".format(epoch)\n",
    "                self.save_model(os.path.join(save_path, saved_name))\n",
    "        return\n",
    "\n",
    "    def training_step(self, dataloader, criterion, optimizer, device):\n",
    "        training_loss, training_accuracy, vizwiz_accuracy, total_sum = 0.0, 0.0, 0.0, 0\n",
    "        self.train()\n",
    "        for _, batch in enumerate(dataloader):\n",
    "            image, question, answer, answer_type, answers_for_questions, answerable = batch\n",
    "            image, question, answer, answer_type, answers_for_questions, answerable = image.to(device), question.to(device), answer.to(device), answer_type.to(device), answers_for_questions.to(device), answerable.to(device)\n",
    "            optimizer.zero_grad()\n",
    "            output, answer_type_predicted, answerable_predict = self.forward(image, question)\n",
    "\n",
    "            loss = criterion(output, answer)\n",
    "            loss.backward()\n",
    "            torch.nn.utils.clip_grad_norm_(model.parameters(), max_norm=1.0)\n",
    "            optimizer.step()\n",
    "            training_loss += loss.item()\n",
    "            predicted_answer = torch.argmax(output, dim = 1)\n",
    "            actual_answer = torch.argmax(answer, dim = 1)\n",
    "            for i in range(len(answer)):\n",
    "                if actual_answer[i] == predicted_answer[i]:\n",
    "                    training_accuracy +=1\n",
    "                total_sum +=1\n",
    "                vizwiz_accuracy += min(1, torch.sum(torch.eq(predicted_answer[i], answers_for_questions[i])).item()/3)\n",
    "\n",
    "        training_loss /= len(dataloader)\n",
    "        training_accuracy /= total_sum\n",
    "        vizwiz_accuracy /= total_sum\n",
    "\n",
    "        return training_loss, training_accuracy, vizwiz_accuracy\n",
    "\n",
    "\n",
    "    def validation_step(self, dataloader, criterion, device):\n",
    "        validation_loss, validation_accuracy, vizwiz_accuracy, total_sum = 0.0, 0.0, 0.0, 0\n",
    "        self.eval()\n",
    "        with torch.no_grad():\n",
    "            for _, batch in enumerate(dataloader):\n",
    "                image, question, answer, answer_type, answers_for_questions, answerable = batch\n",
    "                image, question, answer, answer_type, answers_for_questions, answerable = image.to(device), question.to(device), answer.to(device), answer_type.to(device), answers_for_questions.to(device), answerable.to(device)\n",
    "                output, answer_type_predicted, answerable_predict = self.forward(image, question)\n",
    "\n",
    "                loss = criterion(output, answer)\n",
    "                validation_loss += loss.item()\n",
    "                predicted_answer = torch.argmax(output, dim = 1)\n",
    "                actual_answer = torch.argmax(answer, dim = 1)\n",
    "                for i in range(len(answer)):\n",
    "                    if torch.sum(answer[i]) == 0:\n",
    "                        continue\n",
    "                    if actual_answer[i] == predicted_answer[i]:\n",
    "                        validation_accuracy += 1\n",
    "                    total_sum +=1\n",
    "                    vizwiz_accuracy += min(1, torch.sum(torch.eq(predicted_answer[i], answers_for_questions[i])).item()/3)\n",
    "\n",
    "        validation_loss /= len(dataloader)\n",
    "        validation_accuracy /= total_sum\n",
    "        vizwiz_accuracy /= total_sum\n",
    "\n",
    "        return validation_loss, validation_accuracy, vizwiz_accuracy\n",
    "\n",
    "    def test_step(self, dataloader):\n",
    "        self.eval()\n",
    "        accuracy, total_sum, vizwiz_accuracy = 0.0, 0, 0.0\n",
    "        with torch.no_grad():\n",
    "            for _, batch in enumerate(dataloader):\n",
    "                image, question, answer, answer_type, answers_for_questions, answerable = batch\n",
    "                image, question, answer, answer_type, answers_for_questions, answerable = image.to(self.device), question.to(self.device), answer.to(self.device), answer_type.to(self.device), answers_for_questions.to(self.device), answerable.to(self.device)\n",
    "                output, _, answerable_predict = self.forward(image, question)\n",
    "                predicted_answer = torch.argmax(output, dim = 1)\n",
    "                actual_answer = torch.argmax(answer, dim = 1)\n",
    "                for i in range(len(answer)):\n",
    "                    if torch.sum(answer[i]) == 0:\n",
    "                        continue\n",
    "                    if predicted_answer[i] == actual_answer[i]:\n",
    "                        accuracy += 1\n",
    "                    vizwiz_accuracy += min(1, torch.sum(torch.eq(predicted_answer[i], answers_for_questions[i])).item()/3)\n",
    "                    total_sum +=1\n",
    "\n",
    "        accuracy /= total_sum\n",
    "        vizwiz_accuracy /= total_sum\n",
    "        return accuracy, vizwiz_accuracy\n",
    "\n",
    "    def save_model(self, path):\n",
    "        torch.save(self.state_dict(), path)\n",
    "\n",
    "    def load_model(self, path):\n",
    "        self.load_state_dict(torch.load(path))\n",
    "        self.eval()\n",
    "        return self\n",
    "\n",
    "    def predict(self, image, question):\n",
    "        output, answer_type, answerability = self.forward(image, question)\n",
    "        answerability = 1.0 - answerability\n",
    "        return output, answer_type, answerability\n",
    "\n",
    "    def plot_loss(self):\n",
    "        plt.figure(figsize=(5, 5))\n",
    "        plt.plot(self.training_losses, label = \"Training Loss\")\n",
    "        plt.plot(self.validation_losses, label = \"Validation Loss\")\n",
    "        plt.legend()\n",
    "        plt.show()\n",
    "\n",
    "    def plot_accuracy(self):\n",
    "        plt.figure(figsize=(5, 5))\n",
    "        plt.plot(self.training_accuracies, label = \"Training Accuracy\")\n",
    "        plt.plot(self.validation_accuracies, label = \"Validation Accuracy\")\n",
    "        plt.legend()\n",
    "        plt.show()\n",
    "\n",
    "    def plot_vizwiz_accuracy(self):\n",
    "        plt.figure(figsize=(5, 5))\n",
    "        plt.plot(self.vizwiz_training_accuracies, label = \"VizWiz Training Accuracy\")\n",
    "        plt.plot(self.vizwiz_validation_accuracies, label = \"VizWiz Validation Accuracy\")\n",
    "        plt.legend()\n",
    "        plt.show()\n",
    "\n",
    "    def test_model(self, image_path, question):\n",
    "        self.eval()\n",
    "        if image_path.startswith(\"http\"):\n",
    "            image = Image.open(requests.get(image_path, stream = True).raw)\n",
    "        else:\n",
    "            image = Image.open(image_path)\n",
    "\n",
    "        image = self.preprocess(image).unsqueeze(0).to(self.device)\n",
    "        image_features = self.clip_model.encode_image(image)\n",
    "        image_features = torch.flatten(image_features, start_dim=1)\n",
    "\n",
    "        question =  clip.tokenize(question).to(self.device)\n",
    "        text_features = self.clip_model.encode_text(question).float()\n",
    "        text_features = torch.flatten(text_features, start_dim=1)\n",
    "\n",
    "        predicted_answer, predicted_answer_type, answerability = self.predict(image_features, text_features)\n",
    "        return predicted_answer, predicted_answer_type, answerability\n",
    "\n",
    "    def print_CLIP_model(self):\n",
    "        input_resolution = self.clip_model.visual.input_resolution\n",
    "        context_length = self.clip_model.context_length\n",
    "        vocab_size = self.clip_model.vocab_size\n",
    "\n",
    "        print(\"Selected model:\", self.model_name)\n",
    "        print(\"Model parameters:\", f\"{np.sum([int(np.prod(p.shape)) for p in self.clip_model.parameters()]):,}\")\n",
    "        print(\"Input resolution:\", input_resolution)\n",
    "        print(\"Context length:\", context_length)\n",
    "        print(\"Vocab size:\", vocab_size)\n",
    "        print(\"\")\n",
    "\n",
    "    def save_tracking_info(self, path):\n",
    "        tracking_info_path = os.path.join(path, 'tracking_info.pkl')\n",
    "        with open(tracking_info_path, \"wb\") as f:\n",
    "            tracking_info= {'training_loss': self.training_losses,\n",
    "                            'validation_loss': self.validation_losses,\n",
    "                            'training_accuracy': self.training_accuracies,\n",
    "                            'validation_accuracy': self.validation_accuracies,\n",
    "            }\n",
    "            pickle.dump(tracking_info, f)"
   ]
  },
  {
   "cell_type": "markdown",
   "metadata": {
    "id": "v_FzeUQeftoZ"
   },
   "source": [
    "# Data Define"
   ]
  },
  {
   "cell_type": "code",
   "execution_count": 10,
   "metadata": {
    "colab": {
     "base_uri": "https://localhost:8080/"
    },
    "executionInfo": {
     "elapsed": 6434,
     "status": "ok",
     "timestamp": 1731684663077,
     "user": {
      "displayName": "tinghao li",
      "userId": "11315200994077395485"
     },
     "user_tz": -660
    },
    "id": "3F8TZE-5fv_8",
    "outputId": "a744f208-9c8b-4547-e5b3-e9a7f4385e94"
   },
   "outputs": [
    {
     "name": "stdout",
     "output_type": "stream",
     "text": [
      "Number of distinct answers:  39515\n"
     ]
    }
   ],
   "source": [
    "train_df = read_dataframe(ANNOTATIONS_TRAIN_PATH)\n",
    "validation_df = read_dataframe(ANNOTATIONS_VAL_PATH)\n",
    "train_df, test_df = split_train_test(train_df, test_size=0.05)\n",
    "ANSWER_SPACE = get_number_of_distinct_answers(train_df) # The answer space will be decreased later when we process the answers\n",
    "print(\"Number of distinct answers: \", ANSWER_SPACE)"
   ]
  },
  {
   "cell_type": "markdown",
   "metadata": {},
   "source": [
    "To optimize the training process and reduce computational overhead, we leveraged the CLIP model to pre-encode both the images and questions. By utilizing CLIP’s powerful multimodal capabilities, we efficiently extracted high-quality features from the visual and textual inputs. Instead of performing this feature extraction repeatedly during each training epoch, we saved the encoded features in a Pickle (.pkl) format.\n"
   ]
  },
  {
   "cell_type": "markdown",
   "metadata": {
    "id": "fPDx_HDrfyE5"
   },
   "source": [
    "## Generate PKL Using Clip Model"
   ]
  },
  {
   "cell_type": "code",
   "execution_count": 11,
   "metadata": {
    "executionInfo": {
     "elapsed": 1010,
     "status": "ok",
     "timestamp": 1731684669173,
     "user": {
      "displayName": "tinghao li",
      "userId": "11315200994077395485"
     },
     "user_tz": -660
    },
    "id": "8irDGegof5Dp"
   },
   "outputs": [],
   "source": [
    "# #generate pkl, only run once to save time.\n",
    "# clip_model, preprocessor = clip.load(MODEL_NAME, device = DEVICE)\n",
    "# clip_model.eval().requires_grad_(False)\n",
    "\n",
    "# training_images = process_images(train_df, TRAIN_PATH, clip_model, preprocessor, DEVICE)\n",
    "# training_questions = process_questions(train_df, clip_model, DEVICE)\n",
    "# with open(OUTPUT_PATH + 'training_images.pkl', 'wb') as f:\n",
    "#     pickle.dump(training_images, f)\n",
    "# with open(OUTPUT_PATH + 'training_questions.pkl', 'wb') as f:\n",
    "#     pickle.dump(training_questions, f)\n",
    "\n",
    "# validation_images = process_images(validation_df, VALIDATION_PATH, clip_model, preprocessor, DEVICE)\n",
    "# validation_questions = process_questions(validation_df, clip_model, DEVICE)\n",
    "# with open(OUTPUT_PATH + 'validation_images.pkl', 'wb') as f:\n",
    "#     pickle.dump(validation_images, f)\n",
    "# with open(OUTPUT_PATH + 'validation_questions.pkl', 'wb') as f:\n",
    "#     pickle.dump(validation_questions, f)\n",
    "\n",
    "# test_images = process_images(test_df, TRAIN_PATH, clip_model, preprocessor, DEVICE)\n",
    "# test_questions = process_questions(test_df, clip_model, DEVICE)\n",
    "# with open(OUTPUT_PATH + 'test_images.pkl', 'wb') as f:\n",
    "#     pickle.dump(test_images, f)\n",
    "# with open(OUTPUT_PATH + 'test_questions.pkl', 'wb') as f:\n",
    "#     pickle.dump(test_questions, f)"
   ]
  },
  {
   "cell_type": "markdown",
   "metadata": {
    "id": "lmURSUsWf835"
   },
   "source": [
    "## Load data from pkl file"
   ]
  },
  {
   "cell_type": "code",
   "execution_count": 12,
   "metadata": {
    "colab": {
     "base_uri": "https://localhost:8080/"
    },
    "executionInfo": {
     "elapsed": 17099,
     "status": "ok",
     "timestamp": 1731684689087,
     "user": {
      "displayName": "tinghao li",
      "userId": "11315200994077395485"
     },
     "user_tz": -660
    },
    "id": "LoHxnGXNgA0c",
    "outputId": "1e638ab3-d782-4f54-f451-a923fac4e5ec"
   },
   "outputs": [
    {
     "name": "stdout",
     "output_type": "stream",
     "text": [
      "done\n",
      "done\n",
      "done\n"
     ]
    }
   ],
   "source": [
    "#load pkl\n",
    "with open(OUTPUT_PATH + 'training_images.pkl', 'rb') as f:\n",
    "    training_images = pickle.load(f)\n",
    "with open(OUTPUT_PATH + 'training_questions.pkl', 'rb') as f:\n",
    "    training_questions = pickle.load(f)\n",
    "print('done')\n",
    "with open(OUTPUT_PATH + 'validation_images.pkl', 'rb') as f:\n",
    "    validation_images = pickle.load(f)\n",
    "with open(OUTPUT_PATH + 'validation_questions.pkl', 'rb') as f:\n",
    "    validation_questions = pickle.load(f)\n",
    "print('done')\n",
    "with open(OUTPUT_PATH + 'test_images.pkl', 'rb') as f:\n",
    "    test_images = pickle.load(f)\n",
    "with open(OUTPUT_PATH + 'test_questions.pkl', 'rb') as f:\n",
    "    test_questions = pickle.load(f)\n",
    "print('done')"
   ]
  },
  {
   "cell_type": "markdown",
   "metadata": {
    "id": "TEF388s4gHFw"
   },
   "source": [
    "## Constructing dataset"
   ]
  },
  {
   "cell_type": "code",
   "execution_count": 13,
   "metadata": {
    "colab": {
     "base_uri": "https://localhost:8080/"
    },
    "executionInfo": {
     "elapsed": 41502,
     "status": "ok",
     "timestamp": 1731684734824,
     "user": {
      "displayName": "tinghao li",
      "userId": "11315200994077395485"
     },
     "user_tz": -660
    },
    "id": "_xnWjH6kgNVk",
    "outputId": "bdb61df2-20fc-4d56-baf9-b857ce05e565"
   },
   "outputs": [
    {
     "name": "stdout",
     "output_type": "stream",
     "text": [
      "Number of distinct answers:  5410\n",
      "Number of distinct answers:  1531\n",
      "Number of distinct answers:  489\n"
     ]
    }
   ],
   "source": [
    "# Constructing the training dataset\n",
    "training_dataset = VizWizDataset(train_df, None, None, MODEL_NAME, training_images, training_questions)\n",
    "ANSWER_ONEHOTENCODER = training_dataset.answer_onehotencoder\n",
    "ANSWER_TYPE_ONEHOTENCODER = training_dataset.answer_type_onehotencoder\n",
    "\n",
    "# Saving the fitted one hot encoders\n",
    "with open(OUTPUT_PATH + 'answer_onehotencoder.pkl', 'wb') as f:\n",
    "    pickle.dump(ANSWER_ONEHOTENCODER, f)\n",
    "with open(OUTPUT_PATH + 'answer_type_onehotencoder.pkl', 'wb') as f:\n",
    "    pickle.dump(ANSWER_TYPE_ONEHOTENCODER, f)\n",
    "\n",
    "# Constructing the validation dataset\n",
    "validation_dataset = VizWizDataset(validation_df, ANSWER_TYPE_ONEHOTENCODER, ANSWER_ONEHOTENCODER, MODEL_NAME, validation_images, validation_questions)\n",
    "\n",
    "# Constructing the test dataset\n",
    "test_dataset = VizWizDataset(test_df, ANSWER_TYPE_ONEHOTENCODER, ANSWER_ONEHOTENCODER, MODEL_NAME, test_images, test_questions)\n",
    "\n",
    "# Configuring the data loaders\n",
    "BATCH_SIZE = 64 # 64 is good too but 32 is better (variance wise)\n",
    "\n",
    "# Constructing the training, validation and test data loaders\n",
    "training_dataloader = DataLoader(training_dataset, batch_size=BATCH_SIZE, shuffle=True)\n",
    "validation_dataloader = DataLoader(validation_dataset, batch_size=BATCH_SIZE)\n",
    "test_dataloader = DataLoader(test_dataset, batch_size=BATCH_SIZE)"
   ]
  },
  {
   "cell_type": "markdown",
   "metadata": {
    "id": "Z0_HxYZPgSDc"
   },
   "source": [
    "# Model Training"
   ]
  },
  {
   "cell_type": "markdown",
   "metadata": {},
   "source": [
    "## Training and Evaluation\n",
    "\n",
    "We set up the training, validation, and testing procedures for the model. At the end of each epoch, we compute the loss and accuracy, enabling us to monitor and optimize the model’s performance over time. We also implemented functions for saving and loading the model, allowing us to easily store and restore the model’s state throughout the training process."
   ]
  },
  {
   "cell_type": "code",
   "execution_count": 17,
   "metadata": {
    "colab": {
     "base_uri": "https://localhost:8080/",
     "height": 1000
    },
    "executionInfo": {
     "elapsed": 434076,
     "status": "ok",
     "timestamp": 1731685437965,
     "user": {
      "displayName": "tinghao li",
      "userId": "11315200994077395485"
     },
     "user_tz": -660
    },
    "id": "LcIO7CY2gQ1t",
    "outputId": "8b7b7e82-102b-4ec6-f037-1dc16d53addd"
   },
   "outputs": [
    {
     "name": "stdout",
     "output_type": "stream",
     "text": [
      "Selected model: ViT-L/14@336px\n",
      "Model parameters: 427,944,193\n",
      "Input resolution: 336\n",
      "Context length: 77\n",
      "Vocab size: 49408\n",
      "\n",
      "Epoch: 1 | Training Loss: 5.857 | Validation Loss: 3.254\n",
      "Epoch: 1 | Training Accuracy: 0.229 | Validation Accuracy: 0.316 | Test Accuracy: 0.316\n",
      "Epoch: 1 | Training VizWiz Accuracy: 0.370 | Validation VizWiz Accuracy: 0.442 | Test VizWiz Accuracy: 0.467\n",
      "Epoch: 2 | Training Loss: 5.025 | Validation Loss: 2.813\n",
      "Epoch: 2 | Training Accuracy: 0.276 | Validation Accuracy: 0.344 | Test Accuracy: 0.359\n",
      "Epoch: 2 | Training VizWiz Accuracy: 0.409 | Validation VizWiz Accuracy: 0.480 | Test VizWiz Accuracy: 0.509\n",
      "Epoch: 3 | Training Loss: 4.475 | Validation Loss: 2.536\n",
      "Epoch: 3 | Training Accuracy: 0.310 | Validation Accuracy: 0.345 | Test Accuracy: 0.400\n",
      "Epoch: 3 | Training VizWiz Accuracy: 0.441 | Validation VizWiz Accuracy: 0.467 | Test VizWiz Accuracy: 0.553\n",
      "Epoch: 4 | Training Loss: 3.984 | Validation Loss: 2.444\n",
      "Epoch: 4 | Training Accuracy: 0.337 | Validation Accuracy: 0.373 | Test Accuracy: 0.396\n",
      "Epoch: 4 | Training VizWiz Accuracy: 0.468 | Validation VizWiz Accuracy: 0.495 | Test VizWiz Accuracy: 0.557\n",
      "Epoch: 5 | Training Loss: 3.558 | Validation Loss: 2.284\n",
      "Epoch: 5 | Training Accuracy: 0.358 | Validation Accuracy: 0.382 | Test Accuracy: 0.397\n",
      "Epoch: 5 | Training VizWiz Accuracy: 0.488 | Validation VizWiz Accuracy: 0.503 | Test VizWiz Accuracy: 0.539\n",
      "Epoch: 6 | Training Loss: 3.149 | Validation Loss: 2.149\n",
      "Epoch: 6 | Training Accuracy: 0.385 | Validation Accuracy: 0.410 | Test Accuracy: 0.435\n",
      "Epoch: 6 | Training VizWiz Accuracy: 0.509 | Validation VizWiz Accuracy: 0.539 | Test VizWiz Accuracy: 0.591\n",
      "Epoch: 7 | Training Loss: 2.726 | Validation Loss: 2.170\n",
      "Epoch: 7 | Training Accuracy: 0.419 | Validation Accuracy: 0.393 | Test Accuracy: 0.460\n",
      "Epoch: 7 | Training VizWiz Accuracy: 0.537 | Validation VizWiz Accuracy: 0.521 | Test VizWiz Accuracy: 0.607\n",
      "Epoch: 8 | Training Loss: 2.291 | Validation Loss: 2.124\n",
      "Epoch: 8 | Training Accuracy: 0.464 | Validation Accuracy: 0.433 | Test Accuracy: 0.474\n",
      "Epoch: 8 | Training VizWiz Accuracy: 0.572 | Validation VizWiz Accuracy: 0.566 | Test VizWiz Accuracy: 0.615\n",
      "Epoch: 9 | Training Loss: 1.892 | Validation Loss: 2.120\n",
      "Epoch: 9 | Training Accuracy: 0.523 | Validation Accuracy: 0.443 | Test Accuracy: 0.483\n",
      "Epoch: 9 | Training VizWiz Accuracy: 0.619 | Validation VizWiz Accuracy: 0.583 | Test VizWiz Accuracy: 0.626\n",
      "Epoch: 10 | Training Loss: 1.537 | Validation Loss: 2.118\n",
      "Epoch: 10 | Training Accuracy: 0.583 | Validation Accuracy: 0.443 | Test Accuracy: 0.481\n",
      "Epoch: 10 | Training VizWiz Accuracy: 0.666 | Validation VizWiz Accuracy: 0.575 | Test VizWiz Accuracy: 0.633\n",
      "Epoch: 11 | Training Loss: 1.278 | Validation Loss: 2.220\n",
      "Epoch: 11 | Training Accuracy: 0.641 | Validation Accuracy: 0.435 | Test Accuracy: 0.496\n",
      "Epoch: 11 | Training VizWiz Accuracy: 0.709 | Validation VizWiz Accuracy: 0.565 | Test VizWiz Accuracy: 0.643\n",
      "Epoch: 12 | Training Loss: 1.072 | Validation Loss: 2.403\n",
      "Epoch: 12 | Training Accuracy: 0.685 | Validation Accuracy: 0.423 | Test Accuracy: 0.495\n",
      "Epoch: 12 | Training VizWiz Accuracy: 0.742 | Validation VizWiz Accuracy: 0.546 | Test VizWiz Accuracy: 0.631\n",
      "Epoch: 13 | Training Loss: 0.923 | Validation Loss: 2.361\n",
      "Epoch: 13 | Training Accuracy: 0.726 | Validation Accuracy: 0.450 | Test Accuracy: 0.479\n",
      "Epoch: 13 | Training VizWiz Accuracy: 0.769 | Validation VizWiz Accuracy: 0.573 | Test VizWiz Accuracy: 0.632\n",
      "Epoch: 14 | Training Loss: 0.798 | Validation Loss: 2.448\n",
      "Epoch: 14 | Training Accuracy: 0.757 | Validation Accuracy: 0.451 | Test Accuracy: 0.488\n",
      "Epoch: 14 | Training VizWiz Accuracy: 0.793 | Validation VizWiz Accuracy: 0.585 | Test VizWiz Accuracy: 0.642\n",
      "Epoch: 15 | Training Loss: 0.697 | Validation Loss: 2.499\n",
      "Epoch: 15 | Training Accuracy: 0.787 | Validation Accuracy: 0.439 | Test Accuracy: 0.499\n",
      "Epoch: 15 | Training VizWiz Accuracy: 0.813 | Validation VizWiz Accuracy: 0.569 | Test VizWiz Accuracy: 0.644\n",
      "Epoch: 16 | Training Loss: 0.622 | Validation Loss: 2.569\n",
      "Epoch: 16 | Training Accuracy: 0.809 | Validation Accuracy: 0.408 | Test Accuracy: 0.467\n",
      "Epoch: 16 | Training VizWiz Accuracy: 0.829 | Validation VizWiz Accuracy: 0.535 | Test VizWiz Accuracy: 0.609\n",
      "Epoch: 17 | Training Loss: 0.558 | Validation Loss: 2.725\n",
      "Epoch: 17 | Training Accuracy: 0.825 | Validation Accuracy: 0.436 | Test Accuracy: 0.480\n",
      "Epoch: 17 | Training VizWiz Accuracy: 0.840 | Validation VizWiz Accuracy: 0.563 | Test VizWiz Accuracy: 0.637\n",
      "Epoch: 18 | Training Loss: 0.500 | Validation Loss: 2.744\n",
      "Epoch: 18 | Training Accuracy: 0.843 | Validation Accuracy: 0.434 | Test Accuracy: 0.488\n",
      "Epoch: 18 | Training VizWiz Accuracy: 0.850 | Validation VizWiz Accuracy: 0.570 | Test VizWiz Accuracy: 0.641\n",
      "Epoch: 19 | Training Loss: 0.442 | Validation Loss: 2.827\n",
      "Epoch: 19 | Training Accuracy: 0.863 | Validation Accuracy: 0.448 | Test Accuracy: 0.495\n",
      "Epoch: 19 | Training VizWiz Accuracy: 0.865 | Validation VizWiz Accuracy: 0.572 | Test VizWiz Accuracy: 0.638\n",
      "Epoch: 20 | Training Loss: 0.412 | Validation Loss: 2.975\n",
      "Epoch: 20 | Training Accuracy: 0.871 | Validation Accuracy: 0.429 | Test Accuracy: 0.475\n",
      "Epoch: 20 | Training VizWiz Accuracy: 0.868 | Validation VizWiz Accuracy: 0.558 | Test VizWiz Accuracy: 0.629\n",
      "Epoch: 21 | Training Loss: 0.372 | Validation Loss: 2.884\n",
      "Epoch: 21 | Training Accuracy: 0.882 | Validation Accuracy: 0.429 | Test Accuracy: 0.475\n",
      "Epoch: 21 | Training VizWiz Accuracy: 0.876 | Validation VizWiz Accuracy: 0.559 | Test VizWiz Accuracy: 0.620\n",
      "Epoch: 22 | Training Loss: 0.341 | Validation Loss: 2.877\n",
      "Epoch: 22 | Training Accuracy: 0.894 | Validation Accuracy: 0.446 | Test Accuracy: 0.499\n",
      "Epoch: 22 | Training VizWiz Accuracy: 0.884 | Validation VizWiz Accuracy: 0.573 | Test VizWiz Accuracy: 0.648\n",
      "Epoch: 23 | Training Loss: 0.319 | Validation Loss: 3.120\n",
      "Epoch: 23 | Training Accuracy: 0.900 | Validation Accuracy: 0.437 | Test Accuracy: 0.486\n",
      "Epoch: 23 | Training VizWiz Accuracy: 0.888 | Validation VizWiz Accuracy: 0.560 | Test VizWiz Accuracy: 0.621\n",
      "Epoch: 24 | Training Loss: 0.295 | Validation Loss: 3.070\n",
      "Epoch: 24 | Training Accuracy: 0.906 | Validation Accuracy: 0.444 | Test Accuracy: 0.478\n",
      "Epoch: 24 | Training VizWiz Accuracy: 0.892 | Validation VizWiz Accuracy: 0.566 | Test VizWiz Accuracy: 0.624\n",
      "Epoch: 25 | Training Loss: 0.269 | Validation Loss: 3.092\n",
      "Epoch: 25 | Training Accuracy: 0.916 | Validation Accuracy: 0.424 | Test Accuracy: 0.483\n",
      "Epoch: 25 | Training VizWiz Accuracy: 0.899 | Validation VizWiz Accuracy: 0.550 | Test VizWiz Accuracy: 0.612\n",
      "Epoch: 26 | Training Loss: 0.250 | Validation Loss: 3.045\n",
      "Epoch: 26 | Training Accuracy: 0.924 | Validation Accuracy: 0.451 | Test Accuracy: 0.496\n",
      "Epoch: 26 | Training VizWiz Accuracy: 0.904 | Validation VizWiz Accuracy: 0.578 | Test VizWiz Accuracy: 0.620\n",
      "Epoch: 27 | Training Loss: 0.240 | Validation Loss: 3.180\n",
      "Epoch: 27 | Training Accuracy: 0.925 | Validation Accuracy: 0.435 | Test Accuracy: 0.484\n",
      "Epoch: 27 | Training VizWiz Accuracy: 0.905 | Validation VizWiz Accuracy: 0.558 | Test VizWiz Accuracy: 0.625\n",
      "Epoch: 28 | Training Loss: 0.226 | Validation Loss: 3.350\n",
      "Epoch: 28 | Training Accuracy: 0.930 | Validation Accuracy: 0.417 | Test Accuracy: 0.473\n",
      "Epoch: 28 | Training VizWiz Accuracy: 0.907 | Validation VizWiz Accuracy: 0.531 | Test VizWiz Accuracy: 0.605\n",
      "Epoch: 29 | Training Loss: 0.220 | Validation Loss: 3.250\n",
      "Epoch: 29 | Training Accuracy: 0.932 | Validation Accuracy: 0.424 | Test Accuracy: 0.471\n",
      "Epoch: 29 | Training VizWiz Accuracy: 0.908 | Validation VizWiz Accuracy: 0.546 | Test VizWiz Accuracy: 0.607\n",
      "Epoch: 30 | Training Loss: 0.205 | Validation Loss: 3.264\n",
      "Epoch: 30 | Training Accuracy: 0.936 | Validation Accuracy: 0.433 | Test Accuracy: 0.485\n",
      "Epoch: 30 | Training VizWiz Accuracy: 0.912 | Validation VizWiz Accuracy: 0.564 | Test VizWiz Accuracy: 0.617\n",
      "Epoch: 31 | Training Loss: 0.189 | Validation Loss: 3.320\n",
      "Epoch: 31 | Training Accuracy: 0.940 | Validation Accuracy: 0.441 | Test Accuracy: 0.479\n",
      "Epoch: 31 | Training VizWiz Accuracy: 0.915 | Validation VizWiz Accuracy: 0.574 | Test VizWiz Accuracy: 0.623\n",
      "Epoch: 32 | Training Loss: 0.178 | Validation Loss: 3.581\n",
      "Epoch: 32 | Training Accuracy: 0.945 | Validation Accuracy: 0.447 | Test Accuracy: 0.476\n",
      "Epoch: 32 | Training VizWiz Accuracy: 0.918 | Validation VizWiz Accuracy: 0.584 | Test VizWiz Accuracy: 0.638\n",
      "Epoch: 33 | Training Loss: 0.180 | Validation Loss: 3.523\n",
      "Epoch: 33 | Training Accuracy: 0.943 | Validation Accuracy: 0.424 | Test Accuracy: 0.480\n",
      "Epoch: 33 | Training VizWiz Accuracy: 0.918 | Validation VizWiz Accuracy: 0.546 | Test VizWiz Accuracy: 0.615\n",
      "Epoch: 34 | Training Loss: 0.166 | Validation Loss: 3.465\n",
      "Epoch: 34 | Training Accuracy: 0.948 | Validation Accuracy: 0.435 | Test Accuracy: 0.493\n",
      "Epoch: 34 | Training VizWiz Accuracy: 0.921 | Validation VizWiz Accuracy: 0.561 | Test VizWiz Accuracy: 0.632\n",
      "Epoch: 35 | Training Loss: 0.161 | Validation Loss: 3.710\n",
      "Epoch: 35 | Training Accuracy: 0.950 | Validation Accuracy: 0.415 | Test Accuracy: 0.471\n",
      "Epoch: 35 | Training VizWiz Accuracy: 0.922 | Validation VizWiz Accuracy: 0.533 | Test VizWiz Accuracy: 0.605\n",
      "Epoch: 36 | Training Loss: 0.155 | Validation Loss: 3.672\n",
      "Epoch: 36 | Training Accuracy: 0.950 | Validation Accuracy: 0.415 | Test Accuracy: 0.478\n",
      "Epoch: 36 | Training VizWiz Accuracy: 0.920 | Validation VizWiz Accuracy: 0.539 | Test VizWiz Accuracy: 0.617\n",
      "Epoch: 37 | Training Loss: 0.151 | Validation Loss: 3.674\n",
      "Epoch: 37 | Training Accuracy: 0.954 | Validation Accuracy: 0.444 | Test Accuracy: 0.463\n",
      "Epoch: 37 | Training VizWiz Accuracy: 0.924 | Validation VizWiz Accuracy: 0.572 | Test VizWiz Accuracy: 0.610\n",
      "Epoch: 38 | Training Loss: 0.141 | Validation Loss: 3.667\n",
      "Epoch: 38 | Training Accuracy: 0.956 | Validation Accuracy: 0.441 | Test Accuracy: 0.490\n",
      "Epoch: 38 | Training VizWiz Accuracy: 0.926 | Validation VizWiz Accuracy: 0.567 | Test VizWiz Accuracy: 0.640\n",
      "Epoch: 39 | Training Loss: 0.133 | Validation Loss: 3.735\n",
      "Epoch: 39 | Training Accuracy: 0.956 | Validation Accuracy: 0.445 | Test Accuracy: 0.502\n",
      "Epoch: 39 | Training VizWiz Accuracy: 0.925 | Validation VizWiz Accuracy: 0.573 | Test VizWiz Accuracy: 0.643\n",
      "Epoch: 40 | Training Loss: 0.132 | Validation Loss: 3.636\n",
      "Epoch: 40 | Training Accuracy: 0.958 | Validation Accuracy: 0.425 | Test Accuracy: 0.471\n",
      "Epoch: 40 | Training VizWiz Accuracy: 0.927 | Validation VizWiz Accuracy: 0.543 | Test VizWiz Accuracy: 0.615\n",
      "Epoch: 41 | Training Loss: 0.134 | Validation Loss: 3.725\n",
      "Epoch: 41 | Training Accuracy: 0.957 | Validation Accuracy: 0.437 | Test Accuracy: 0.488\n",
      "Epoch: 41 | Training VizWiz Accuracy: 0.926 | Validation VizWiz Accuracy: 0.559 | Test VizWiz Accuracy: 0.632\n",
      "Epoch: 42 | Training Loss: 0.127 | Validation Loss: 3.834\n",
      "Epoch: 42 | Training Accuracy: 0.960 | Validation Accuracy: 0.443 | Test Accuracy: 0.501\n",
      "Epoch: 42 | Training VizWiz Accuracy: 0.927 | Validation VizWiz Accuracy: 0.569 | Test VizWiz Accuracy: 0.636\n",
      "Epoch: 43 | Training Loss: 0.121 | Validation Loss: 3.867\n",
      "Epoch: 43 | Training Accuracy: 0.960 | Validation Accuracy: 0.441 | Test Accuracy: 0.485\n",
      "Epoch: 43 | Training VizWiz Accuracy: 0.928 | Validation VizWiz Accuracy: 0.567 | Test VizWiz Accuracy: 0.631\n",
      "Epoch: 44 | Training Loss: 0.119 | Validation Loss: 3.896\n",
      "Epoch: 44 | Training Accuracy: 0.963 | Validation Accuracy: 0.451 | Test Accuracy: 0.501\n",
      "Epoch: 44 | Training VizWiz Accuracy: 0.930 | Validation VizWiz Accuracy: 0.583 | Test VizWiz Accuracy: 0.643\n",
      "Epoch: 45 | Training Loss: 0.117 | Validation Loss: 3.868\n",
      "Epoch: 45 | Training Accuracy: 0.963 | Validation Accuracy: 0.438 | Test Accuracy: 0.509\n",
      "Epoch: 45 | Training VizWiz Accuracy: 0.929 | Validation VizWiz Accuracy: 0.560 | Test VizWiz Accuracy: 0.650\n",
      "Epoch: 46 | Training Loss: 0.111 | Validation Loss: 4.051\n",
      "Epoch: 46 | Training Accuracy: 0.964 | Validation Accuracy: 0.436 | Test Accuracy: 0.485\n",
      "Epoch: 46 | Training VizWiz Accuracy: 0.929 | Validation VizWiz Accuracy: 0.555 | Test VizWiz Accuracy: 0.634\n",
      "Epoch: 47 | Training Loss: 0.107 | Validation Loss: 4.200\n",
      "Epoch: 47 | Training Accuracy: 0.965 | Validation Accuracy: 0.444 | Test Accuracy: 0.486\n",
      "Epoch: 47 | Training VizWiz Accuracy: 0.931 | Validation VizWiz Accuracy: 0.573 | Test VizWiz Accuracy: 0.637\n",
      "Epoch: 48 | Training Loss: 0.109 | Validation Loss: 4.324\n",
      "Epoch: 48 | Training Accuracy: 0.964 | Validation Accuracy: 0.425 | Test Accuracy: 0.470\n",
      "Epoch: 48 | Training VizWiz Accuracy: 0.930 | Validation VizWiz Accuracy: 0.543 | Test VizWiz Accuracy: 0.626\n",
      "Epoch: 49 | Training Loss: 0.104 | Validation Loss: 4.354\n",
      "Epoch: 49 | Training Accuracy: 0.965 | Validation Accuracy: 0.422 | Test Accuracy: 0.464\n",
      "Epoch: 49 | Training VizWiz Accuracy: 0.931 | Validation VizWiz Accuracy: 0.543 | Test VizWiz Accuracy: 0.608\n",
      "Epoch: 50 | Training Loss: 0.103 | Validation Loss: 4.319\n",
      "Epoch: 50 | Training Accuracy: 0.968 | Validation Accuracy: 0.427 | Test Accuracy: 0.473\n",
      "Epoch: 50 | Training VizWiz Accuracy: 0.932 | Validation VizWiz Accuracy: 0.545 | Test VizWiz Accuracy: 0.616\n"
     ]
    },
    {
     "data": {
      "image/png": "[encoded data removed]",
      "text/plain": [
       "<Figure size 500x500 with 1 Axes>"
      ]
     },
     "metadata": {},
     "output_type": "display_data"
    },
    {
     "data": {
      "image/png": "[encoded data removed]",
      "text/plain": [
       "<Figure size 500x500 with 1 Axes>"
      ]
     },
     "metadata": {},
     "output_type": "display_data"
    },
    {
     "data": {
      "image/png": "[encoded data removed]",
      "text/plain": [
       "<Figure size 500x500 with 1 Axes>"
      ]
     },
     "metadata": {},
     "output_type": "display_data"
    }
   ],
   "source": [
    "#train model\n",
    "# Configuring training's hyperparameters\n",
    "NUM_EPOCHS = 50\n",
    "LR = 1e-4\n",
    "WEIGHT_DECAY = 0\n",
    "NUM_CLASSES = len(training_dataset.get_answer_vocab())\n",
    "SAVE_PATH = OUTPUT_PATH + \"CLIP_v9\"\n",
    "SAVE_EVERY = 50\n",
    "\n",
    "# Initializing the model\n",
    "model = VQAModel(num_classes=NUM_CLASSES, device= DEVICE, hidden_size=512, model_name=MODEL_NAME).to(DEVICE)\n",
    "model.print_CLIP_model()\n",
    "\n",
    "# Initializing the loss function and optimizer\n",
    "loss_function = nn.CrossEntropyLoss().to(DEVICE)\n",
    "optimizer = optim.AdamW(model.parameters(), lr=LR, weight_decay = WEIGHT_DECAY)\n",
    "\n",
    "# Training the model and plotting the loss and accuracy\n",
    "model.train_model(training_dataloader, validation_dataloader, test_dataloader, loss_function, optimizer, epochs=NUM_EPOCHS, save_path=SAVE_PATH, save_every=SAVE_EVERY)\n",
    "model.plot_loss()\n",
    "model.plot_accuracy()\n",
    "model.plot_vizwiz_accuracy()\n"
   ]
  },
  {
   "cell_type": "markdown",
   "metadata": {
    "id": "LZUTnFrcZEAF"
   },
   "source": [
    "# Training model on a new dataset"
   ]
  },
  {
   "cell_type": "markdown",
   "metadata": {},
   "source": [
    "To further enhance the model’s performance, we retrained it on a larger and more diverse dataset. By training on a wider variety of inputs, the model’s ability to generalize improved significantly. As a result, the model achieved an accuracy of 41% on our benchmark, demonstrating a substantial improvement in its performance and robustness."
   ]
  },
  {
   "cell_type": "markdown",
   "metadata": {
    "id": "PcK-jbJNYP0y"
   },
   "source": [
    "## Reconfigure the path"
   ]
  },
  {
   "cell_type": "code",
   "execution_count": 18,
   "metadata": {
    "executionInfo": {
     "elapsed": 483,
     "status": "ok",
     "timestamp": 1731685497810,
     "user": {
      "displayName": "tinghao li",
      "userId": "11315200994077395485"
     },
     "user_tz": -660
    },
    "id": "H6Z_VkXCYTne"
   },
   "outputs": [],
   "source": [
    "ANNOTATIONS_PATH = '/content/drive/MyDrive/9444/Dataset/merged_data.json'\n",
    "IMG_DIR = '/content/drive/MyDrive/9444/Dataset/val2014'\n",
    "OUTPUT_PATH = '/content/drive/MyDrive/9444/Training_output/'"
   ]
  },
  {
   "cell_type": "code",
   "execution_count": 21,
   "metadata": {
    "executionInfo": {
     "elapsed": 1034,
     "status": "ok",
     "timestamp": 1731685570348,
     "user": {
      "displayName": "tinghao li",
      "userId": "11315200994077395485"
     },
     "user_tz": -660
    },
    "id": "UD72LjWigMFb"
   },
   "outputs": [],
   "source": [
    "def get_pkl_path(dataset_type, data_type):\n",
    "  pkl_dir = OUTPUT_PATH + '/pklnew/'\n",
    "  path = pkl_dir + f'Training_output{dataset_type}_{data_type}.pkl'\n",
    "  return path"
   ]
  },
  {
   "cell_type": "markdown",
   "metadata": {
    "id": "q2aBGd24gnit"
   },
   "source": [
    "## Reload Data"
   ]
  },
  {
   "cell_type": "code",
   "execution_count": 31,
   "metadata": {
    "colab": {
     "base_uri": "https://localhost:8080/"
    },
    "executionInfo": {
     "elapsed": 5060,
     "status": "ok",
     "timestamp": 1731686258042,
     "user": {
      "displayName": "tinghao li",
      "userId": "11315200994077395485"
     },
     "user_tz": -660
    },
    "id": "3D-hpXwlh4ip",
    "outputId": "77eac05e-5268-477f-cfa0-ba65b2d97c7a"
   },
   "outputs": [
    {
     "name": "stdout",
     "output_type": "stream",
     "text": [
      "Number of distinct answers:  72683\n"
     ]
    }
   ],
   "source": [
    "train_df = read_dataframe(ANNOTATIONS_PATH)\n",
    "# validation_df = read_dataframe(ANNOTATIONS_VAL_PATH) # TODO\n",
    "train_df, valid_df, test_df = split_train_valid_test(train_df)\n",
    "ANSWER_SPACE = get_number_of_distinct_answers(train_df) # The answer space will be decreased later when we process the answers\n",
    "print(\"Number of distinct answers: \", ANSWER_SPACE)"
   ]
  },
  {
   "cell_type": "code",
   "execution_count": 27,
   "metadata": {
    "colab": {
     "base_uri": "https://localhost:8080/"
    },
    "executionInfo": {
     "elapsed": 94756,
     "status": "ok",
     "timestamp": 1731686039511,
     "user": {
      "displayName": "tinghao li",
      "userId": "11315200994077395485"
     },
     "user_tz": -660
    },
    "id": "mPuIdOIKgPtl",
    "outputId": "befc46a2-a4e2-4cd4-f80e-adcd2ee8f6b3"
   },
   "outputs": [
    {
     "name": "stdout",
     "output_type": "stream",
     "text": [
      "load done\n"
     ]
    }
   ],
   "source": [
    "#load pkl\n",
    "OUTPUT_PATH='/content/drive/MyDrive/9444/Training_output/'\n",
    "with open(get_pkl_path('training', 'images'), 'rb') as f:\n",
    "    training_images_new = pickle.load(f)\n",
    "with open(get_pkl_path('training', 'questions'), 'rb') as f:\n",
    "    training_questions_new = pickle.load(f)\n",
    "\n",
    "with open(get_pkl_path('validation', 'images'), 'rb') as f:\n",
    "    validation_images_new = pickle.load(f)\n",
    "with open(get_pkl_path('validation', 'questions'), 'rb') as f:\n",
    "    validation_questions_new = pickle.load(f)\n",
    "\n",
    "with open(get_pkl_path('test', 'images'), 'rb') as f:\n",
    "    test_images_new = pickle.load(f)\n",
    "with open(get_pkl_path('test', 'questions'), 'rb') as f:\n",
    "    test_questions_new = pickle.load(f)\n",
    "print('load done')"
   ]
  },
  {
   "cell_type": "code",
   "execution_count": 32,
   "metadata": {
    "colab": {
     "base_uri": "https://localhost:8080/"
    },
    "executionInfo": {
     "elapsed": 472886,
     "status": "ok",
     "timestamp": 1731687007877,
     "user": {
      "displayName": "tinghao li",
      "userId": "11315200994077395485"
     },
     "user_tz": -660
    },
    "id": "MdKWV0K8gypA",
    "outputId": "7dab1918-c289-431a-b503-02da9538093c"
   },
   "outputs": [
    {
     "name": "stdout",
     "output_type": "stream",
     "text": [
      "Number of distinct answers:  11287\n",
      "Number of distinct answers:  1531\n",
      "Number of distinct answers:  3270\n"
     ]
    }
   ],
   "source": [
    "# Constructing the training dataset\n",
    "training_dataset = VizWizDataset(train_df, None, None, MODEL_NAME, training_images_new, training_questions_new)\n",
    "ANSWER_ONEHOTENCODER = training_dataset.answer_onehotencoder\n",
    "ANSWER_TYPE_ONEHOTENCODER = training_dataset.answer_type_onehotencoder\n",
    "\n",
    "# Saving the fitted one hot encoders\n",
    "with open(OUTPUT_PATH + 'answer_onehotencoder.pkl', 'wb') as f:\n",
    "    pickle.dump(ANSWER_ONEHOTENCODER, f)\n",
    "with open(OUTPUT_PATH + 'answer_type_onehotencoder.pkl', 'wb') as f:\n",
    "    pickle.dump(ANSWER_TYPE_ONEHOTENCODER, f)\n",
    "\n",
    "# Constructing the validation dataset\n",
    "validation_dataset = VizWizDataset(validation_df, ANSWER_TYPE_ONEHOTENCODER, ANSWER_ONEHOTENCODER, MODEL_NAME, validation_images, validation_questions)\n",
    "\n",
    "# Constructing the test dataset\n",
    "test_dataset = VizWizDataset(test_df, ANSWER_TYPE_ONEHOTENCODER, ANSWER_ONEHOTENCODER, MODEL_NAME, test_images, test_questions)\n",
    "\n",
    "# Configuring the data loaders\n",
    "BATCH_SIZE = 32 # 64 is good too but 32 is better (variance wise)\n",
    "\n",
    "# Constructing the training, validation and test data loaders\n",
    "training_dataloader = DataLoader(training_dataset, batch_size=BATCH_SIZE, shuffle=True)\n",
    "validation_dataloader = DataLoader(validation_dataset, batch_size=BATCH_SIZE)\n",
    "test_dataloader = DataLoader(test_dataset, batch_size=BATCH_SIZE)"
   ]
  },
  {
   "cell_type": "markdown",
   "metadata": {
    "id": "4QZ0is-1hu3U"
   },
   "source": [
    "## Load the trained model and retrain the model on new dataset."
   ]
  },
  {
   "cell_type": "code",
   "execution_count": 33,
   "metadata": {
    "colab": {
     "base_uri": "https://localhost:8080/"
    },
    "executionInfo": {
     "elapsed": 12505,
     "status": "ok",
     "timestamp": 1731687030907,
     "user": {
      "displayName": "tinghao li",
      "userId": "11315200994077395485"
     },
     "user_tz": -660
    },
    "id": "_-_ZHZyNhuDn",
    "outputId": "bb6a7108-ebc8-4702-cc78-b0f7effe3899"
   },
   "outputs": [
    {
     "name": "stderr",
     "output_type": "stream",
     "text": [
      "<ipython-input-33-f2a9033fcf64>:15: FutureWarning: You are using `torch.load` with `weights_only=False` (the current default value), which uses the default pickle module implicitly. It is possible to construct malicious pickle data which will execute arbitrary code during unpickling (See https://github.com/pytorch/pytorch/blob/main/SECURITY.md#untrusted-models for more details). In a future release, the default value for `weights_only` will be flipped to `True`. This limits the functions that could be executed during unpickling. Arbitrary objects will no longer be allowed to be loaded via this mode unless they are explicitly allowlisted by the user via `torch.serialization.add_safe_globals`. We recommend you start setting `weights_only=True` for any use case where you don't have full control of the loaded file. Please open an issue on GitHub for any issues related to this experimental feature.\n",
      "  model.load_state_dict(torch.load(MODEL_PATH), strict=False)\n"
     ]
    },
    {
     "name": "stdout",
     "output_type": "stream",
     "text": [
      "Model loading complete\n"
     ]
    }
   ],
   "source": [
    "import math\n",
    "NUM_CLASSES = 5410\n",
    "MODEL_PATH = \"/content/drive/MyDrive/9444clip/OUTPUT/epoch_50local.pth\"\n",
    "DEVICE = torch.device(\"cuda\" if torch.cuda.is_available() else \"cpu\")\n",
    "MODEL_NAME = \"ViT-L/14@336px\"\n",
    "\n",
    "# Reinitialize the last layer\n",
    "model.classification_head[3] = torch.nn.Linear(512, NUM_CLASSES).to(DEVICE)\n",
    "\n",
    "# Initialize the VQAModel\n",
    "model = VQAModel(num_classes=NUM_CLASSES, device=DEVICE, hidden_size=512, model_name=MODEL_NAME).to(DEVICE)\n",
    "\n",
    "# Load model state\n",
    "# model.load_state_dict(torch.load(MODEL_PATH, weights_only=True))\n",
    "model.load_state_dict(torch.load(MODEL_PATH), strict=False)\n",
    "\n",
    "print('Model loading complete')\n"
   ]
  },
  {
   "cell_type": "code",
   "execution_count": 35,
   "metadata": {
    "colab": {
     "base_uri": "https://localhost:8080/",
     "height": 1000
    },
    "executionInfo": {
     "elapsed": 1548839,
     "status": "ok",
     "timestamp": 1731690860963,
     "user": {
      "displayName": "tinghao li",
      "userId": "11315200994077395485"
     },
     "user_tz": -660
    },
    "id": "DiVeqZpRh61L",
    "outputId": "85243cc1-62e5-4b43-df7f-7fdb245636e8"
   },
   "outputs": [
    {
     "name": "stdout",
     "output_type": "stream",
     "text": [
      "Selected model: ViT-L/14@336px\n",
      "Model parameters: 427,944,193\n",
      "Input resolution: 336\n",
      "Context length: 77\n",
      "Vocab size: 49408\n",
      "\n",
      "Epoch [1/50], Training Loss: 4.7810, Training Accuracy: 21.91%, Validation Loss: 13.3560, Validation Accuracy: 1.83%\n",
      "Epoch [2/50], Training Loss: 4.4050, Training Accuracy: 23.34%, Validation Loss: 16.1458, Validation Accuracy: 1.92%\n",
      "Epoch [3/50], Training Loss: 4.2609, Training Accuracy: 23.78%, Validation Loss: 15.4811, Validation Accuracy: 1.85%\n",
      "Epoch [4/50], Training Loss: 4.1172, Training Accuracy: 24.09%, Validation Loss: 19.9134, Validation Accuracy: 1.97%\n",
      "Epoch [5/50], Training Loss: 3.9856, Training Accuracy: 24.61%, Validation Loss: 17.4295, Validation Accuracy: 1.83%\n",
      "Epoch [6/50], Training Loss: 3.8937, Training Accuracy: 24.81%, Validation Loss: 18.6549, Validation Accuracy: 1.90%\n",
      "Epoch [7/50], Training Loss: 3.7944, Training Accuracy: 25.26%, Validation Loss: 17.2454, Validation Accuracy: 2.18%\n",
      "Epoch [8/50], Training Loss: 3.7105, Training Accuracy: 25.86%, Validation Loss: 17.6097, Validation Accuracy: 1.88%\n",
      "Epoch [9/50], Training Loss: 3.6411, Training Accuracy: 26.21%, Validation Loss: 20.3447, Validation Accuracy: 1.50%\n",
      "Epoch [10/50], Training Loss: 3.5718, Training Accuracy: 26.63%, Validation Loss: 18.8029, Validation Accuracy: 1.71%\n",
      "Epoch [11/50], Training Loss: 3.5126, Training Accuracy: 27.05%, Validation Loss: 17.0750, Validation Accuracy: 1.88%\n",
      "Epoch [12/50], Training Loss: 3.4464, Training Accuracy: 27.50%, Validation Loss: 19.3061, Validation Accuracy: 1.88%\n",
      "Epoch [13/50], Training Loss: 3.3944, Training Accuracy: 27.95%, Validation Loss: 18.3503, Validation Accuracy: 1.64%\n",
      "Epoch [14/50], Training Loss: 3.3485, Training Accuracy: 28.19%, Validation Loss: 20.1160, Validation Accuracy: 1.69%\n",
      "Epoch [15/50], Training Loss: 3.3040, Training Accuracy: 28.65%, Validation Loss: 22.4867, Validation Accuracy: 1.53%\n",
      "Epoch [16/50], Training Loss: 3.2607, Training Accuracy: 28.97%, Validation Loss: 19.6728, Validation Accuracy: 1.78%\n",
      "Epoch [17/50], Training Loss: 3.2235, Training Accuracy: 29.25%, Validation Loss: 18.1129, Validation Accuracy: 1.88%\n",
      "Epoch [18/50], Training Loss: 3.1908, Training Accuracy: 29.53%, Validation Loss: 20.4767, Validation Accuracy: 1.37%\n",
      "Epoch [19/50], Training Loss: 3.1511, Training Accuracy: 29.80%, Validation Loss: 20.9012, Validation Accuracy: 1.94%\n",
      "Epoch [20/50], Training Loss: 3.1258, Training Accuracy: 30.11%, Validation Loss: 19.4119, Validation Accuracy: 1.57%\n",
      "Epoch [21/50], Training Loss: 3.0997, Training Accuracy: 30.32%, Validation Loss: 22.0090, Validation Accuracy: 1.53%\n",
      "Epoch [22/50], Training Loss: 3.0672, Training Accuracy: 30.50%, Validation Loss: 21.0340, Validation Accuracy: 1.57%\n",
      "Epoch [23/50], Training Loss: 3.0450, Training Accuracy: 30.78%, Validation Loss: 22.0170, Validation Accuracy: 1.39%\n",
      "Epoch [24/50], Training Loss: 3.0273, Training Accuracy: 30.94%, Validation Loss: 20.7610, Validation Accuracy: 1.39%\n",
      "Epoch [25/50], Training Loss: 3.0017, Training Accuracy: 31.10%, Validation Loss: 20.1126, Validation Accuracy: 1.48%\n",
      "Epoch [26/50], Training Loss: 2.9814, Training Accuracy: 31.24%, Validation Loss: 20.6500, Validation Accuracy: 1.83%\n",
      "Epoch [27/50], Training Loss: 2.9520, Training Accuracy: 31.46%, Validation Loss: 22.1838, Validation Accuracy: 1.48%\n",
      "Epoch [28/50], Training Loss: 2.9398, Training Accuracy: 31.63%, Validation Loss: 20.9028, Validation Accuracy: 1.46%\n",
      "Epoch [29/50], Training Loss: 2.9198, Training Accuracy: 31.68%, Validation Loss: 21.5194, Validation Accuracy: 1.18%\n",
      "Epoch [30/50], Training Loss: 2.9010, Training Accuracy: 31.90%, Validation Loss: 22.6465, Validation Accuracy: 1.41%\n",
      "Epoch [31/50], Training Loss: 2.8849, Training Accuracy: 31.95%, Validation Loss: 24.1013, Validation Accuracy: 1.25%\n",
      "Epoch [32/50], Training Loss: 2.8725, Training Accuracy: 32.09%, Validation Loss: 24.4408, Validation Accuracy: 1.53%\n",
      "Epoch [33/50], Training Loss: 2.8621, Training Accuracy: 32.17%, Validation Loss: 25.0153, Validation Accuracy: 1.18%\n",
      "Epoch [34/50], Training Loss: 2.8429, Training Accuracy: 32.23%, Validation Loss: 22.5032, Validation Accuracy: 1.27%\n",
      "Epoch [35/50], Training Loss: 2.8271, Training Accuracy: 32.42%, Validation Loss: 22.9799, Validation Accuracy: 1.13%\n",
      "Epoch [36/50], Training Loss: 2.8173, Training Accuracy: 32.43%, Validation Loss: 21.3986, Validation Accuracy: 1.34%\n",
      "Epoch [37/50], Training Loss: 2.7989, Training Accuracy: 32.58%, Validation Loss: 22.9561, Validation Accuracy: 1.23%\n",
      "Epoch [38/50], Training Loss: 2.7868, Training Accuracy: 32.68%, Validation Loss: 22.5303, Validation Accuracy: 1.30%\n",
      "Epoch [39/50], Training Loss: 2.7698, Training Accuracy: 32.89%, Validation Loss: 23.7347, Validation Accuracy: 1.27%\n",
      "Epoch [40/50], Training Loss: 2.7640, Training Accuracy: 32.68%, Validation Loss: 23.5558, Validation Accuracy: 1.27%\n",
      "Epoch [41/50], Training Loss: 2.7446, Training Accuracy: 33.08%, Validation Loss: 24.8746, Validation Accuracy: 1.09%\n",
      "Epoch [42/50], Training Loss: 2.7303, Training Accuracy: 33.13%, Validation Loss: 21.2740, Validation Accuracy: 1.04%\n",
      "Epoch [43/50], Training Loss: 2.7270, Training Accuracy: 33.17%, Validation Loss: 22.9645, Validation Accuracy: 1.74%\n",
      "Epoch [44/50], Training Loss: 2.7080, Training Accuracy: 33.26%, Validation Loss: 25.1160, Validation Accuracy: 1.25%\n",
      "Epoch [45/50], Training Loss: 2.6961, Training Accuracy: 33.50%, Validation Loss: 24.4277, Validation Accuracy: 1.39%\n",
      "Epoch [46/50], Training Loss: 2.6904, Training Accuracy: 33.57%, Validation Loss: 22.9137, Validation Accuracy: 1.20%\n",
      "Epoch [47/50], Training Loss: 2.6775, Training Accuracy: 33.45%, Validation Loss: 22.5321, Validation Accuracy: 1.20%\n",
      "Epoch [48/50], Training Loss: 2.6668, Training Accuracy: 33.63%, Validation Loss: 25.9620, Validation Accuracy: 1.41%\n",
      "Epoch [49/50], Training Loss: 2.6549, Training Accuracy: 33.85%, Validation Loss: 22.4776, Validation Accuracy: 1.04%\n",
      "Epoch [50/50], Training Loss: 2.6462, Training Accuracy: 33.86%, Validation Loss: 24.2891, Validation Accuracy: 1.11%\n"
     ]
    },
    {
     "data": {
      "image/png": "[encoded data removed]",
      "text/plain": [
       "<Figure size 1200x600 with 2 Axes>"
      ]
     },
     "metadata": {},
     "output_type": "display_data"
    }
   ],
   "source": [
    "# Train the model\n",
    "# Configuring training hyperparameters\n",
    "NUM_EPOCHS = 50\n",
    "LR = 5e-4\n",
    "WEIGHT_DECAY = 0\n",
    "NUM_CLASSES = len(training_dataset.get_answer_vocab())\n",
    "SAVE_PATH = OUTPUT_PATH\n",
    "SAVE_EVERY = 50\n",
    "BATCH_SIZE = 32\n",
    "\n",
    "# Save answer_vocab to a JSON file\n",
    "\n",
    "# Retrieve answer_vocab and convert to list (if answer_vocab is of ndarray type)\n",
    "answer_vocab = training_dataset.get_answer_vocab().tolist()\n",
    "\n",
    "# Save answer_vocab to a JSON file\n",
    "with open(SAVE_PATH + '/answer_vocab.json', 'w') as f:\n",
    "    json.dump(answer_vocab, f)\n",
    "\n",
    "# Initialize the model\n",
    "model = VQAModel(num_classes=NUM_CLASSES, device=DEVICE, hidden_size=512, model_name=MODEL_NAME).to(DEVICE)\n",
    "model.print_CLIP_model()\n",
    "\n",
    "# Initialize loss function and optimizer\n",
    "loss_function = nn.CrossEntropyLoss().to(DEVICE)\n",
    "optimizer = optim.Adam(model.parameters(), lr=LR, weight_decay=WEIGHT_DECAY)\n",
    "\n",
    "# Configure dataloaders for training, validation, and testing\n",
    "training_dataloader = DataLoader(training_dataset, batch_size=BATCH_SIZE, shuffle=True)\n",
    "validation_dataloader = DataLoader(validation_dataset, batch_size=BATCH_SIZE)\n",
    "test_dataloader = DataLoader(test_dataset, batch_size=BATCH_SIZE)\n",
    "\n",
    "# Lists for recording training and validation losses\n",
    "training_losses = []\n",
    "validation_losses = []\n",
    "training_accuracies = []\n",
    "validation_accuracies = []\n",
    "\n",
    "# Training the model\n",
    "for epoch in range(NUM_EPOCHS):\n",
    "    model.train()  # Set the model to training mode\n",
    "    running_loss = 0.0\n",
    "    correct_train = 0\n",
    "    total_train = 0\n",
    "\n",
    "    for batch in training_dataloader:\n",
    "        images, questions, one_hot_targets, answer_type_labels, additional_data, batch_constants = batch\n",
    "\n",
    "        # Move data to the device\n",
    "        images = images.to(DEVICE)\n",
    "        questions = questions.to(DEVICE)\n",
    "        one_hot_targets = one_hot_targets.to(DEVICE)\n",
    "\n",
    "        # Convert one-hot encoded targets to class indices\n",
    "        targets = torch.argmax(one_hot_targets, dim=1)\n",
    "\n",
    "        # Forward pass\n",
    "        optimizer.zero_grad()\n",
    "        outputs = model(images, questions)\n",
    "\n",
    "        # If outputs is a tuple, use the first element as logits\n",
    "        if isinstance(outputs, tuple):\n",
    "            outputs = outputs[0]\n",
    "\n",
    "        # Compute the loss\n",
    "        loss = loss_function(outputs, targets)\n",
    "\n",
    "        # Backward pass and optimization\n",
    "        loss.backward()\n",
    "        optimizer.step()\n",
    "\n",
    "        running_loss += loss.item()\n",
    "\n",
    "        # Calculate training accuracy\n",
    "        _, predicted = torch.max(outputs, 1)\n",
    "        correct_train += (predicted == targets).sum().item()\n",
    "        total_train += targets.size(0)\n",
    "\n",
    "    # Calculate training loss and accuracy for each epoch\n",
    "    epoch_train_loss = running_loss / len(training_dataloader)\n",
    "    epoch_train_accuracy = 100 * correct_train / total_train if total_train > 0 else 0\n",
    "    training_losses.append(epoch_train_loss)\n",
    "    training_accuracies.append(epoch_train_accuracy)\n",
    "\n",
    "    # Validation phase\n",
    "    model.eval()  # Set the model to evaluation mode\n",
    "    validation_loss = 0.0\n",
    "    correct_val = 0\n",
    "    total_val = 0\n",
    "    with torch.no_grad():  # Disable gradient computation during validation\n",
    "        for batch in validation_dataloader:\n",
    "            images, questions, one_hot_targets, _, _, _ = batch\n",
    "            images = images.to(DEVICE)\n",
    "            questions = questions.to(DEVICE)\n",
    "            one_hot_targets = one_hot_targets.to(DEVICE)\n",
    "\n",
    "            targets = torch.argmax(one_hot_targets, dim=1)\n",
    "\n",
    "            outputs = model(images, questions)\n",
    "            if isinstance(outputs, tuple):\n",
    "                outputs = outputs[0]\n",
    "\n",
    "            loss = loss_function(outputs, targets)\n",
    "            validation_loss += loss.item()\n",
    "\n",
    "            # Calculate validation accuracy\n",
    "            _, predicted = torch.max(outputs, 1)\n",
    "            correct_val += (predicted == targets).sum().item()\n",
    "            total_val += targets.size(0)\n",
    "\n",
    "    # Calculate validation loss and accuracy for each epoch\n",
    "    epoch_val_loss = validation_loss / len(validation_dataloader)\n",
    "    epoch_val_accuracy = 100 * correct_val / total_val if total_val > 0 else 0\n",
    "    validation_losses.append(epoch_val_loss)\n",
    "    validation_accuracies.append(epoch_val_accuracy)\n",
    "\n",
    "    # Print loss and accuracy for each epoch\n",
    "    print(f\"Epoch [{epoch+1}/{NUM_EPOCHS}], \"\n",
    "          f\"Training Loss: {epoch_train_loss:.4f}, Training Accuracy: {epoch_train_accuracy:.2f}%, \"\n",
    "          f\"Validation Loss: {epoch_val_loss:.4f}, Validation Accuracy: {epoch_val_accuracy:.2f}%\")\n",
    "\n",
    "    # Save the model every 'SAVE_EVERY' epochs\n",
    "    if (epoch + 1) % SAVE_EVERY == 0:\n",
    "        torch.save(model.state_dict(), SAVE_PATH + f'_epoch{epoch+1}.pth')\n",
    "\n",
    "# Plot training and validation loss curves\n",
    "plt.figure(figsize=(12, 6))\n",
    "plt.subplot(1, 2, 1)\n",
    "plt.plot(training_losses, label=\"Training Loss\")\n",
    "plt.plot(validation_losses, label=\"Validation Loss\")\n",
    "plt.xlabel(\"Epoch\")\n",
    "plt.ylabel(\"Loss\")\n",
    "plt.legend()\n",
    "plt.title(\"Training and Validation Loss Over Epochs\")\n",
    "\n",
    "# Plot training and validation accuracy curves\n",
    "plt.subplot(1, 2, 2)\n",
    "plt.plot(training_accuracies, label=\"Training Accuracy\")\n",
    "plt.plot(validation_accuracies, label=\"Validation Accuracy\")2\n",
    "plt.xlabel(\"Epoch\")\n",
    "plt.ylabel(\"Accuracy (%)\")\n",
    "plt.legend()\n",
    "plt.title(\"Training and Validation Accuracy Over Epochs\")\n",
    "\n",
    "plt.tight_layout()\n",
    "plt.show()\n"
   ]
  },
  {
   "cell_type": "markdown",
   "metadata": {
    "id": "VWgDfORxiKqm"
   },
   "source": [
    "# Generate the answer"
   ]
  },
  {
   "cell_type": "markdown",
   "metadata": {},
   "source": [
    "In this section, we use our model to generate answers on two different datasets, each serving as a separate benchmark for evaluating the model’s performance."
   ]
  },
  {
   "cell_type": "markdown",
   "metadata": {},
   "source": [
    "## Generate the answer for VQA Benchmark"
   ]
  },
  {
   "cell_type": "code",
   "execution_count": 36,
   "metadata": {
    "executionInfo": {
     "elapsed": 8,
     "status": "ok",
     "timestamp": 1731690860964,
     "user": {
      "displayName": "tinghao li",
      "userId": "11315200994077395485"
     },
     "user_tz": -660
    },
    "id": "uaoJH0OoiOoL"
   },
   "outputs": [],
   "source": [
    "def generate_answers(questions_path, answers_path, processor, clip_model, trained_model, device, resume=False):\n",
    "    # Load questions\n",
    "    with open(questions_path) as file:\n",
    "        questions_file = json.load(file)\n",
    "    questions = questions_file['questions']\n",
    "\n",
    "    # Load existing answers to resume if the script was interrupted, only if resume is True\n",
    "    processed_ids = set()\n",
    "    if resume and os.path.exists(answers_path):\n",
    "        with open(answers_path, 'r') as file:\n",
    "            for line in file:\n",
    "                existing_answer = json.loads(line)\n",
    "                processed_ids.add(existing_answer['question_id'])\n",
    "\n",
    "    # Process questions and generate answers\n",
    "    count = 0\n",
    "    with open(answers_path, 'a') as file:\n",
    "        for question in questions:\n",
    "            question_id = question['question_id']\n",
    "\n",
    "            # Skip already processed questions if resume is enabled\n",
    "            if resume and question_id in processed_ids:\n",
    "                continue\n",
    "\n",
    "            image_id = question['image_id']\n",
    "            image_path = os.path.join('/content/drive/MyDrive/9444/Dataset', 'val2014', f'COCO_val2014_{str(image_id).zfill(12)}.jpg')\n",
    "\n",
    "            # Extract image and question features\n",
    "            images_features = process_single_image(image_path, clip_model, preprocessor, DEVICE)\n",
    "            images_features = images_features.unsqueeze(0)\n",
    "            question_features = process_single_question(question['question'], clip_model, DEVICE)\n",
    "            question_features = question_features.unsqueeze(0)\n",
    "\n",
    "            # Directly call test_model function to predict the answer\n",
    "            predicted_answer, predicted_answer_type, answerability = trained_model.test_model(\n",
    "                image=images_features,\n",
    "                question=question_features\n",
    "            )\n",
    "\n",
    "            # Decode predicted answer\n",
    "            with open('/content/drive/MyDrive/9444/Training_output/pklnew/answer_onehotencoder.pkl', 'rb') as f:\n",
    "                ANSWER_ONEHOTENCODER = pickle.load(f)\n",
    "\n",
    "            answer_text = ANSWER_ONEHOTENCODER.inverse_transform(predicted_answer.cpu().detach().numpy())\n",
    "\n",
    "            # Save the answer as a new line in the JSONL file\n",
    "            answer_entry = {\n",
    "                \"answer\": answer_text[0][0],\n",
    "                \"question_id\": question_id,\n",
    "            }\n",
    "            file.write(json.dumps(answer_entry) + '\\n')\n",
    "            file.flush()  # Ensures data is written immediately to disk\n",
    "\n",
    "            print(count, ':', question_id, 'done')\n",
    "            count += 1\n"
   ]
  },
  {
   "cell_type": "code",
   "execution_count": 37,
   "metadata": {
    "colab": {
     "base_uri": "https://localhost:8080/"
    },
    "executionInfo": {
     "elapsed": 49136,
     "status": "ok",
     "timestamp": 1731691346762,
     "user": {
      "displayName": "tinghao li",
      "userId": "11315200994077395485"
     },
     "user_tz": -660
    },
    "id": "WnWjf-gWiSFH",
    "outputId": "a3f907af-d49f-4a30-da82-5c3c15a7d8ea"
   },
   "outputs": [
    {
     "name": "stderr",
     "output_type": "stream",
     "text": [
      "100%|███████████████████████████████████████| 891M/891M [00:13<00:00, 66.8MiB/s]\n",
      "<ipython-input-37-6db50ebdec81>:17: FutureWarning: You are using `torch.load` with `weights_only=False` (the current default value), which uses the default pickle module implicitly. It is possible to construct malicious pickle data which will execute arbitrary code during unpickling (See https://github.com/pytorch/pytorch/blob/main/SECURITY.md#untrusted-models for more details). In a future release, the default value for `weights_only` will be flipped to `True`. This limits the functions that could be executed during unpickling. Arbitrary objects will no longer be allowed to be loaded via this mode unless they are explicitly allowlisted by the user via `torch.serialization.add_safe_globals`. We recommend you start setting `weights_only=True` for any use case where you don't have full control of the loaded file. Please open an issue on GitHub for any issues related to this experimental feature.\n",
      "  model.load_state_dict(torch.load(MODEL_PATH), strict=False)\n"
     ]
    }
   ],
   "source": [
    "# Load the pre-trained model (assuming the model is saved as 'trained_model.pth')\n",
    "DEVICE = torch.device(\"cuda\" if torch.cuda.is_available() else \"cpu\")\n",
    "MODEL_NAME = \"ViT-L/14@336px\"\n",
    "clip_model, preprocessor = clip.load(MODEL_NAME, device=DEVICE)\n",
    "clip_model.eval().requires_grad_(False)\n",
    "\n",
    "# NUM_CLASSES is set to 11287 (using the same vocabulary as during training)\n",
    "NUM_CLASSES = 11287\n",
    "MODEL_PATH = \"/content/drive/MyDrive/9444/CLIP_checkpoints/_epoch50_2_data.pth\"\n",
    "\n",
    "# Reinitialize the last layer of the classification head\n",
    "model.classification_head[3] = torch.nn.Linear(512, NUM_CLASSES).to(DEVICE)\n",
    "\n",
    "# Load the weights (no error in strict mode)\n",
    "model = VQAModel(num_classes=NUM_CLASSES, device=DEVICE, hidden_size=512, model_name=MODEL_NAME).to(DEVICE)\n",
    "# model.load_state_dict(torch.load(MODEL_PATH, weights_only=True))\n",
    "model.load_state_dict(torch.load(MODEL_PATH), strict=False)\n",
    "\n",
    "# Define the paths for questions and answers\n",
    "Questions_path = os.path.join('/content/drive/MyDrive/9444/Dataset', 'clip_splitted_v2_OpenEnded_mscoco_val2014_questions.json')\n",
    "Answers_path = os.path.join('/content/drive/MyDrive/9444/clip_answers', 'clip_answers_VQA_2.jsonl')\n"
   ]
  },
  {
   "cell_type": "code",
   "execution_count": null,
   "metadata": {
    "id": "_Y81A6BjiT1b"
   },
   "outputs": [],
   "source": [
    "with open(Answers_path, 'w') as f:\n",
    "    pass  # This creates an empty file\n",
    "os.path.exists(Answers_path)"
   ]
  },
  {
   "cell_type": "code",
   "execution_count": null,
   "metadata": {
    "id": "1ILh-u1niasf"
   },
   "outputs": [],
   "source": [
    "from sklearn.model_selection import train_test_split\n",
    "\n",
    "questions_path = os.path.join('/content/drive/MyDrive/9444/Dataset', 'v2_OpenEnded_mscoco_val2014_questions.json')\n",
    "with open(questions_path, 'r') as file:\n",
    "    questions_file = json.load(file)\n",
    "    questions = questions_file['questions']\n",
    "\n",
    "splitted_path = os.path.join('/content/drive/MyDrive/9444/Dataset', 'clip_splitted_v2_OpenEnded_mscoco_val2014_questions.json')\n",
    "train_questions, test_questions = train_test_split(questions, test_size=0.90, random_state=42)\n",
    "print(len(train_questions))\n",
    "with open(splitted_path, 'w') as file:\n",
    "  questions_file['questions'] = train_questions\n",
    "  json.dump(questions_file, file)"
   ]
  },
  {
   "cell_type": "code",
   "execution_count": null,
   "metadata": {
    "id": "mEJOEvCPid_g"
   },
   "outputs": [],
   "source": [
    "generate_answers(\n",
    "    questions_path=Questions_path,\n",
    "    answers_path=Answers_path,\n",
    "    processor=preprocessor,\n",
    "    clip_model=clip_model,\n",
    "    trained_model=model,\n",
    "    device=DEVICE,\n",
    "    resume=False\n",
    ")"
   ]
  },
  {
   "cell_type": "markdown",
   "metadata": {},
   "source": [
    "## Generate answer for GQA Benchmark"
   ]
  },
  {
   "cell_type": "markdown",
   "metadata": {
    "id": "K3Pm3e4sXbjG"
   },
   "source": [
    "# Demo"
   ]
  },
  {
   "cell_type": "code",
   "execution_count": null,
   "metadata": {
    "id": "ts1qE3awXdw4"
   },
   "outputs": [],
   "source": [
    "# Load the JSON data\n",
    "print('start load')\n",
    "with open(\"/content/drive/MyDrive/9444clip/comp9444/Annotations/Annotations/test.json\", \"r\") as file:\n",
    "    data = json.load(file)\n",
    "print('load done!')"
   ]
  },
  {
   "cell_type": "code",
   "execution_count": null,
   "metadata": {
    "id": "cySMKHFKXlix"
   },
   "outputs": [],
   "source": [
    "def complete_image_filename(image_id):\n",
    "    padded_id = str(image_id).zfill(8)\n",
    "    filename = f\"VizWiz_test_{padded_id}.jpg\"\n",
    "    return filename"
   ]
  },
  {
   "cell_type": "code",
   "execution_count": null,
   "metadata": {
    "id": "KQp0xW4oXnlx"
   },
   "outputs": [],
   "source": [
    "import json\n",
    "import random\n",
    "import torch\n",
    "import pickle\n",
    "import matplotlib.pyplot as plt\n",
    "from PIL import Image\n",
    "\n",
    "# Load One Hot Encoders\n",
    "with open(OUTPUT_PATH + 'answer_onehotencoder.pkl', 'rb') as f:\n",
    "    ANSWER_ONEHOTENCODER = pickle.load(f)\n",
    "with open(OUTPUT_PATH + 'answer_type_onehotencoder.pkl', 'rb') as f:\n",
    "    ANSWER_TYPE_ONEHOTENCODER = pickle.load(f)\n",
    "\n",
    "# Load the model\n",
    "DEVICE = torch.device(\"cuda\" if torch.cuda.is_available() else \"cpu\")\n",
    "MODEL_NAME = \"ViT-L/14@336px\"\n",
    "NUM_CLASSES = len(training_dataset.get_answer_vocab())  # Using the same vocabulary as during training\n",
    "MODEL_PATH = OUTPUT_PATH + \"epoch_50local.pth\"\n",
    "model = VQAModel(num_classes=NUM_CLASSES, device=DEVICE, hidden_size=512, model_name=MODEL_NAME).to(DEVICE)\n",
    "model.load_state_dict(torch.load(MODEL_PATH, weights_only=True))\n",
    "\n",
    "# Load JSON file\n",
    "with open(\"/content/drive/MyDrive/9444clip/comp9444/Annotations/Annotations/test.json\", 'r') as f:\n",
    "    test_data = json.load(f)\n"
   ]
  },
  {
   "cell_type": "code",
   "execution_count": null,
   "metadata": {
    "id": "t8TdX2rDXqXg"
   },
   "outputs": [],
   "source": [
    "# Find the question by image ID and predict the answer\n",
    "def predict_by_image_id(image_id):\n",
    "    # Find the corresponding sample\n",
    "    sample = next((item for item in test_data if item[\"image\"] == image_id), None)\n",
    "\n",
    "    if sample is None:\n",
    "        print(f\"Image ID {image_id} not found in the JSON file.\")\n",
    "        return\n",
    "\n",
    "    # Retrieve the question and image path\n",
    "    question = sample[\"question\"]\n",
    "    image_path = \"/content/drive/MyDrive/9444clip/comp9444/test/test/\" + image_id\n",
    "\n",
    "    # Predict the answer and answer type\n",
    "    predicted_answer, predicted_answer_type, answerability = model.test_model(image_path=image_path, question=question)\n",
    "    answer = ANSWER_ONEHOTENCODER.inverse_transform(predicted_answer.cpu().detach().numpy())\n",
    "    # answer_type = ANSWER_TYPE_ONEHOTENCODER.inverse_transform(predicted_answer_type.cpu().detach().numpy())\n",
    "    # answer = ANSWER_ONEHOTENCODER.inverse_transform([[predicted_answer]])\n",
    "    # answer_type = ANSWER_TYPE_ONEHOTENCODER.inverse_transform([[predicted_answer_type]])\n",
    "\n",
    "    # Display the image and output the results\n",
    "    plt.imshow(Image.open(image_path))\n",
    "    plt.axis('off')\n",
    "    plt.show()\n",
    "    print('The image ID is: ' + image_id)\n",
    "    print(\"The Question is: \" + question)\n",
    "    print(\"The Answer is: \" + answer[0][0])\n",
    "    # print(\"The Answer Type is: \" + answer_type[0][0])\n",
    "    # print(\"The confidence for being unanswerable: \" + str(answerability.item()))\n",
    "    print(\"-\" * 40)\n"
   ]
  }
 ],
 "metadata": {
  "accelerator": "GPU",
  "colab": {
   "authorship_tag": "ABX9TyNHV5tTFoLSQdrkxZL/MLxv",
   "gpuType": "L4",
   "machine_shape": "hm",
   "provenance": [],
   "toc_visible": true
  },
  "kernelspec": {
   "display_name": "Python 3",
   "name": "python3"
  },
  "language_info": {
   "name": "python"
  }
 },
 "nbformat": 4,
 "nbformat_minor": 0
}
